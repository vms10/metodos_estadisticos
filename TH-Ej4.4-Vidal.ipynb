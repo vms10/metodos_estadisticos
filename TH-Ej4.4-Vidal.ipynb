{
 "cells": [
  {
   "cell_type": "markdown",
   "metadata": {},
   "source": [
    "# Parcial computacional sobre Test de Hipótesis\n",
    "\n",
    "## Alumna: Maria Sol Vidal"
   ]
  },
  {
   "cell_type": "code",
   "execution_count": 1,
   "metadata": {},
   "outputs": [],
   "source": [
    "import numpy as np\n",
    "import scipy as sp \n",
    "from scipy import stats\n",
    "from matplotlib import pyplot as plt \n",
    "%matplotlib inline "
   ]
  },
  {
   "cell_type": "markdown",
   "metadata": {},
   "source": [
    "## Ejercicio **4.4** \n",
    "Si consideramos que al momento de este examen la patente más nueva en circulación es AD592MF, calculá cuanta suerte tuviste el día que armaste tu lista. Es decir, ¿cuál es la probabilidad de que hagas lo mismo y obtengas una estimación igual o\n",
    "peor que la obtenida para la patente más nueva en circulación."
   ]
  },
  {
   "cell_type": "markdown",
   "metadata": {},
   "source": [
    "La estimación de n depende fuertemente de la patente más nueva observada $m^*$. Esto se debe a que nuestro prior $\\Pi (n)$ está determinado por el  $m^*$ medido. Por lo tanto, para un $m^*$ medido más grande espero una mejor estimación de $n$, mientras que si mido un  $m^*$ más chico, obtendré una peor estimación de $n$. En este ítem, nos dicen que consideremos a $n$ como el natural asociado a la patente AD592MF, es decir, $n=2428510$. Mi pregunta es qué pasa si justo hubiese medido $m^*=n=2428510$. La estimación de $n$ en ese caso, ¿Es mejor o peor que la que obtuvimos con  $m^*=2412985$? \n"
   ]
  },
  {
   "cell_type": "markdown",
   "metadata": {},
   "source": [
    "Lo que voy a hacer primero es un \"barrido grueso\" de m's desde un m mucho menor que $m^*=2412985$ (100000) hasta $m=n=2428510$ para ver cómo es la relación entre el m que elijo para calcular el posterior $P(n\\mid k=251,m)$ y la esperanza de $n$, es decir, el estimador bayesiano de $n$ (para ese valor de $m$ elegido). En particular, me voy a fijar para que m's obtengo una peor estimación de $n$ que tomando $m^*=2412985$ (el que medi). Luego la probabilidad de obtenener una estimación igual o peor de $n$  que la obtenida con $m^*=2412985$ va a ser la suma de las probabilidades de los $m$'s para los cuales se obtiene una estimación de $n$ igual o peor que con $m^*=2412985$, ya sea por defecto o exceso. Lo que espero es que para $m$'s menores a mi $m^*=2412985$, obtenga una peor estimación de n. "
   ]
  },
  {
   "cell_type": "code",
   "execution_count": 81,
   "metadata": {},
   "outputs": [],
   "source": [
    "#es un posterior aproximado, solo para ver la dependencia de E(n) con m \n",
    "def posterior(k,m,nc):\n",
    "    p_n_m=[]\n",
    "    n=np.arange(m,nc+1,1000)\n",
    "    for i in n:\n",
    "        p_n_m.append(p(m,k,i))\n",
    "    A=sum(p_n_m) #normalizo\n",
    "    p_n=np.array(p_n_m)\n",
    "    p_n=p_n/A\n",
    "    return n, p_n"
   ]
  },
  {
   "cell_type": "code",
   "execution_count": 83,
   "metadata": {},
   "outputs": [],
   "source": [
    "e=[]\n",
    "m=np.arange(100000,2428510+1,100000)\n",
    "for i in m:\n",
    "    n_prima,p_n_prima=posterior(251,i,2460000)\n",
    "    e.append(sum((n_prima*p_n_prima)))"
   ]
  },
  {
   "cell_type": "code",
   "execution_count": 90,
   "metadata": {},
   "outputs": [
    {
     "data": {
      "image/png": "[encoded data removed]",
      "text/plain": [
       "<Figure size 432x288 with 1 Axes>"
      ]
     },
     "metadata": {},
     "output_type": "display_data"
    }
   ],
   "source": [
    "plt.plot(m,e,\"ro\",label=\"E(n)\")\n",
    "\n",
    "\n",
    "plt.ticklabel_format(style='sci', axis='Both', scilimits=(0,0),useMathText=True)\n",
    "plt.grid(True)\n",
    "plt.legend(loc = 'best')\n",
    "plt.xlabel(\"Valores de m\")\n",
    "plt.ylabel(r\"$E(n \\mid m)$\")\n",
    "plt.show()"
   ]
  },
  {
   "cell_type": "markdown",
   "metadata": {},
   "source": [
    "Como se puede ver, la relación entre el $m$ que elijo para calcular el posterior y la esperanza de $n$ (dado esa elección de $m$) es lineal con pendiente positiva. Por lo tanto, es verdad que para un $m$ menor que mi $m^*=2412985$ voy a obtener una peor estimación de $n$. Entonces, para calcular la probabilidad de obtener una estimación igual o peor de $n$ que la obtenida con mi $m^∗$=2412985, tengo que sumar las probabilidades de obtener m's menores que mi $m^*=2412985$. Ahora voy a ver en detalle que pasa para los $m>m^*=2412985$."
   ]
  },
  {
   "cell_type": "code",
   "execution_count": 92,
   "metadata": {},
   "outputs": [],
   "source": [
    "def posterior(k,m,nc):\n",
    "    p_n_m=[]\n",
    "    n=np.arange(m,nc+1,10) #en rigor deberia tener paso 1, pero con la cantidad de numeros intermedios no afecta ponerle paso 10\n",
    "    for i in n:\n",
    "        p_n_m.append(p(m,k,i))\n",
    "    A=sum(p_n_m) #normalizo\n",
    "    p_n=np.array(p_n_m)\n",
    "    p_n=p_n/A\n",
    "    return n, p_n"
   ]
  },
  {
   "cell_type": "code",
   "execution_count": 93,
   "metadata": {},
   "outputs": [],
   "source": [
    "e=[]\n",
    "m=np.arange(2412985,2428510+1,100)\n",
    "for i in m:\n",
    "    n_prima,p_n_prima=posterior(251,i,2460000)\n",
    "    e.append(sum((n_prima*p_n_prima)))"
   ]
  },
  {
   "cell_type": "code",
   "execution_count": 97,
   "metadata": {},
   "outputs": [
    {
     "data": {
      "image/png": "[encoded data removed]",
      "text/plain": [
       "<Figure size 432x288 with 1 Axes>"
      ]
     },
     "metadata": {},
     "output_type": "display_data"
    }
   ],
   "source": [
    "plt.plot(m,e,\"ro\")\n",
    "plt.plot(m,[2428510]*len(e),label=\" Valor real de n=2428510\")\n",
    "plt.plot(m,[2422675]*len(e),label=r\"E(n) para $m^*=2412985$\")\n",
    "plt.plot(m,[2428510+5835]*len(e),label=r\"$n+(n-E(n \\mid m^*=2412985))$\")\n",
    "\n",
    "plt.ticklabel_format(style='sci', axis='Both', scilimits=(0,0),useMathText=True)\n",
    "plt.grid(True)\n",
    "plt.legend(loc = 'best')\n",
    "plt.xlabel(\"Valores de m\")\n",
    "plt.ylabel(r\"$E(n \\mid m)$\")\n",
    "plt.show()"
   ]
  },
  {
   "cell_type": "markdown",
   "metadata": {},
   "source": [
    "La linea verde es el valor real de $n=2428510$ más la distancia entre la esperanza de $n$ para mi $m^*=2412985$ y el valor real de $n$. Es decir, la linea verde está construida como:"
   ]
  },
  {
   "cell_type": "code",
   "execution_count": 68,
   "metadata": {},
   "outputs": [
    {
     "data": {
      "text/plain": [
       "2434345"
      ]
     },
     "execution_count": 68,
     "metadata": {},
     "output_type": "execute_result"
    }
   ],
   "source": [
    "dist=2428510- 2422675 # n - E(n) para mi m*\n",
    "2428510+dist # n + dist "
   ]
  },
  {
   "cell_type": "markdown",
   "metadata": {},
   "source": [
    "Es decir, para los $m$'s que están \"a la derecha\" de la intersección de la curva roja y verde, obtengo una peor estimación de $n$ que con mi $m^*=2412985$ por exceso. Por lo tanto, a esos $m$ también los tengo que tener en cuenta para calcular la probabilidad de obtenener una estimación igual o peor de $n$ que la obtenida con mi $m^*=2412985$. Para eso, necesito ver la intersección entre la curva roja (E(n) en función de m) con la línea verde, para lo cual voy a fittear a la linea roja por una función lineal. "
   ]
  },
  {
   "cell_type": "code",
   "execution_count": 98,
   "metadata": {},
   "outputs": [
    {
     "data": {
      "text/plain": [
       "array([9.45116438e-01, 1.41813399e+05])"
      ]
     },
     "execution_count": 98,
     "metadata": {},
     "output_type": "execute_result"
    }
   ],
   "source": [
    "from scipy.optimize import curve_fit\n",
    "f = lambda x, A, B: A * x + B  \n",
    "\n",
    "popt, pcov = curve_fit(f, m, e ) \n",
    "popt"
   ]
  },
  {
   "cell_type": "code",
   "execution_count": 99,
   "metadata": {},
   "outputs": [
    {
     "data": {
      "image/png": "[encoded data removed]",
      "text/plain": [
       "<Figure size 432x288 with 1 Axes>"
      ]
     },
     "metadata": {},
     "output_type": "display_data"
    }
   ],
   "source": [
    "plt.plot(m,e,\"ro\")\n",
    "t = np.linspace(min(m), max(m), 1000) \n",
    "plt.plot(t, f(t, *popt), 'g-', label = 'Ajuste') \n",
    "plt.plot(m,[2428510+5835]*len(e),label=r\"$n+(n-E(n \\mid m^*=2412985))$\")\n",
    "\n",
    "plt.ticklabel_format(style='sci', axis='Both', scilimits=(0,0),useMathText=True)\n",
    "plt.grid(True)\n",
    "plt.legend(loc = 'best')\n",
    "plt.xlabel(\"Valores de m\")\n",
    "plt.ylabel(r\"$E(n \\mid m)$\")\n",
    "plt.show()"
   ]
  },
  {
   "cell_type": "markdown",
   "metadata": {},
   "source": [
    "Calculo el $m$ donde ocurre la intersección entre $E(n \\mid m)$ y la línea verde:"
   ]
  },
  {
   "cell_type": "code",
   "execution_count": 69,
   "metadata": {},
   "outputs": [
    {
     "data": {
      "text/plain": [
       "2425701.3996427977"
      ]
     },
     "execution_count": 69,
     "metadata": {},
     "output_type": "execute_result"
    }
   ],
   "source": [
    "(2434345-popt[1])/popt[0]"
   ]
  },
  {
   "cell_type": "markdown",
   "metadata": {},
   "source": [
    "Es decir, que para $m\\geq 2425701$ ($m\\leq n=2428510$ , pues estoy asumiendo que ese es el valor real de $n$) obtengo una peor estimación de $n$ que con mi $m^*=2412985$. Dicho todo esto, en conclusión, la probabilidad ($p$) de obtener una peor o igual estimación de $n$ que con mi $ m^*=  2412985$ la calculo como:\n",
    "\n",
    "\n",
    "$$p=P(251\\leq m <  m^*=  2412985 \\mid k= 251,n=2428510)+ P(2425701\\leq m \\leq n=  2428510 \\mid k= 251,n=2428510)$$\n",
    "\n",
    "\n",
    "Computacionalmente voy a calcular $p$ como (1 menos el complemento de $p$), ya que demanda menos costo computacional."
   ]
  },
  {
   "cell_type": "code",
   "execution_count": 101,
   "metadata": {},
   "outputs": [],
   "source": [
    "def p(m,k,n):   #probabilidad de m\n",
    "    coc=[]\n",
    "    for i in range(1,k):\n",
    "        coc.append((m-i)/(n-i))\n",
    "    coc=np.array(coc)\n",
    "    return (np.prod(coc)*k)/n"
   ]
  },
  {
   "cell_type": "code",
   "execution_count": 106,
   "metadata": {},
   "outputs": [],
   "source": [
    "m_comp=np.arange(2412984,2425701,1)\n",
    "proba=[]\n",
    "for i in m_comp:\n",
    "    proba.append(p(i,251,2428510))"
   ]
  },
  {
   "cell_type": "code",
   "execution_count": 110,
   "metadata": {},
   "outputs": [
    {
     "data": {
      "text/plain": [
       "0.45207460733823"
      ]
     },
     "execution_count": 110,
     "metadata": {},
     "output_type": "execute_result"
    }
   ],
   "source": [
    "1-sum(proba)"
   ]
  },
  {
   "cell_type": "markdown",
   "metadata": {},
   "source": [
    "Rta: la probabilidad de obtener una peor o igual estimación de  $n$ que con mi  $m^∗=2412985$ es $\\sim 0.45$.  "
   ]
  }
 ],
 "metadata": {
  "kernelspec": {
   "display_name": "Python 3",
   "language": "python",
   "name": "python3"
  },
  "language_info": {
   "codemirror_mode": {
    "name": "ipython",
    "version": 3
   },
   "file_extension": ".py",
   "mimetype": "text/x-python",
   "name": "python",
   "nbconvert_exporter": "python",
   "pygments_lexer": "ipython3",
   "version": "3.6.5"
  }
 },
 "nbformat": 4,
 "nbformat_minor": 2
}
