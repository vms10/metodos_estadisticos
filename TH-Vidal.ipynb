{
 "cells": [
  {
   "cell_type": "markdown",
   "metadata": {},
   "source": [
    "# Parcial computacional sobre Test de Hipótesis\n",
    "\n",
    "## Alumna: Maria Sol Vidal"
   ]
  },
  {
   "cell_type": "markdown",
   "metadata": {},
   "source": [
    "### **2.** Estadística en la calle\n",
    "$\\hspace{1cm}$\n",
    "<div style=\"text-align: justify\">\n",
    "Desde el 1 de abril de 2016, los automóviles de nuestro pais se patentan con un nuevo\n",
    "sistema, éste es de la forma L1L2 N1N2N3 L3L4 donde L son letras y N son números.\n",
    "Así, esta nueva notación, que comenzó con AA000AA, luego AA000AB, ..., AA000ZZ,\n",
    "AA001AA, etc, terminará con ZZ999ZZ.</div>\n",
    "$\\hspace{1cm}$\n",
    "<div style=\"text-align: justify\">\n",
    "Hay muchas preguntas que uno podría pretender responder con sólo mirar patentes,\n",
    "como por ejemplo, ¿es uniforme la distribución de patentes? ¿puedo estimar la patente\n",
    "más nueva en circulación? ¿los autos de un barrio, son en promedio más nuevos que los\n",
    "de otro? lo que aprendimos en MEFE nos puede ayudar a responder esas preguntas, y\n",
    "muchas más.</div>\n",
    "$\\hspace{1cm}$\n",
    "<div style=\"text-align: justify\">\n",
    "Para eso te vamos a pedir, en primer lugar, un pequeño trabajo de campo, que consiste\n",
    "en sentarte en una plaza o un café y anotar patentes nuevas que veas en circulación\n",
    "(prohibido hacerlo manejando!). Cuantas más patentes anotes, mas representativos serán\n",
    "tus resultados y más fácil la aplicación de los test porque, en muchos de ellos, podrás\n",
    "usar la aproximación gaussiana para la distribución del estadístico.</div>\n",
    "$\\hspace{1cm}$\n",
    "<div style=\"text-align: justify\">\n",
    "Una vez que tengas tu muestra, deberás transformar cada una de las k patentes observadas en un número natural, asignando el 1 a la patente AA000AA, el 2 a la AA000AB y así sucesivamente, hasta llegar a m, el natural correspondiente a la patente más nueva\n",
    "que hayas visto. Una vez que tengas la lista, estarás en condiciones de empezar el parcial.</div>\n"
   ]
  },
  {
   "cell_type": "markdown",
   "metadata": {},
   "source": [
    "     "
   ]
  },
  {
   "cell_type": "markdown",
   "metadata": {},
   "source": [
    "<div style=\"text-align: justify\">\n",
    "En primer lugar, las patentes que voy a utilizar como mi muestra las anote en la esquina de Av. La Plata y Av. Rivadavia, barrio de Caballito, Ciudad Autónoma de Buenos Aires. Llegué a anotar 251 patentes, sin repeticiones.</div> \n",
    "$\\hspace{1cm}$\n",
    "<div style=\"text-align: justify\"> Una vez hecho eso, el paso siguiente era asignarle un número natural a cada patente. Para eso, pense en descomponer la patente en una ¨base mixta 10-26¨, ya que hay 10 números (incluyendo al cero) y 26 letras (no hay patentes con ñ). La función $patente_a_natural$ convierte una patente en un natural. </div>\n",
    "$\\hspace{1cm}$\n",
    "<div style=\"text-align: justify\"> A continuación, chequeo que la función $patente_a_natural$ entregue el natural correcto, por ejemplo, para las patentes AA000AA y ZZ999ZZ (los extremos).</div>"
   ]
  },
  {
   "cell_type": "code",
   "execution_count": 1,
   "metadata": {},
   "outputs": [],
   "source": [
    "import numpy as np\n",
    "import scipy as sp \n",
    "from scipy import stats\n",
    "from matplotlib import pyplot as plt \n",
    "%matplotlib inline \n",
    "import string"
   ]
  },
  {
   "cell_type": "code",
   "execution_count": 2,
   "metadata": {},
   "outputs": [],
   "source": [
    "def patente_a_natural(patente):\n",
    "    values = dict()\n",
    "    for index, letter in enumerate(string.ascii_uppercase):\n",
    "        values[letter] = index \n",
    "    numeros = {\"0\" : 0,\"1\" : 1,\"2\" : 2,\"3\" : 3,\"4\" : 4,\"5\" : 5,\"6\" : 6,\"7\" : 7,\"8\" : 8,\"9\" : 9}\n",
    "    nu=values[patente[0]]*(26**3)*(10**3)+values[patente[1]]*(26**2)*(10**3)+numeros[patente[2]]*(26**2)*(10**2)+numeros[patente[3]]*(26**2)*10+numeros[patente[4]]*(26**2)+values[patente[5]]*26+values[patente[6]]+1\n",
    "    return nu"
   ]
  },
  {
   "cell_type": "code",
   "execution_count": 3,
   "metadata": {},
   "outputs": [
    {
     "data": {
      "text/plain": [
       "1"
      ]
     },
     "execution_count": 3,
     "metadata": {},
     "output_type": "execute_result"
    }
   ],
   "source": [
    "patente_a_natural(\"AA000AAA\")"
   ]
  },
  {
   "cell_type": "code",
   "execution_count": 4,
   "metadata": {},
   "outputs": [
    {
     "data": {
      "text/plain": [
       "456976000"
      ]
     },
     "execution_count": 4,
     "metadata": {},
     "output_type": "execute_result"
    }
   ],
   "source": [
    "patente_a_natural(\"ZZ999ZZ\")"
   ]
  },
  {
   "cell_type": "markdown",
   "metadata": {},
   "source": [
    "Calculo el número total de patentes que permite el sistema L1L2 N1N2N3 L3L4.  "
   ]
  },
  {
   "cell_type": "code",
   "execution_count": 5,
   "metadata": {},
   "outputs": [
    {
     "data": {
      "text/plain": [
       "456976000"
      ]
     },
     "execution_count": 5,
     "metadata": {},
     "output_type": "execute_result"
    }
   ],
   "source": [
    "#número de patentes totales\n",
    "26*26*10*10*10*26*26 "
   ]
  },
  {
   "cell_type": "markdown",
   "metadata": {},
   "source": [
    "El número total de patentes es consistente con el natural asignado a la patente ZZ999ZZ. "
   ]
  },
  {
   "cell_type": "markdown",
   "metadata": {},
   "source": [
    "Ahora importo mi lista de patentes y le asigno un natural a cada patente. "
   ]
  },
  {
   "cell_type": "code",
   "execution_count": 6,
   "metadata": {},
   "outputs": [],
   "source": [
    "def patentes_a_naturales(data):\n",
    "    with open(data, 'r') as infile:\n",
    "        archivo = [] \n",
    "        for line in infile:\n",
    "            line=line.strip(\"\\n\")\n",
    "            archivo.append(line)\n",
    "    values = dict()\n",
    "    for index, letter in enumerate(string.ascii_uppercase):\n",
    "        values[letter] = index \n",
    "    numeros = {\"0\" : 0,\"1\" : 1,\"2\" : 2,\"3\" : 3,\"4\" : 4,\"5\" : 5,\"6\" : 6,\"7\" : 7,\"8\" : 8,\"9\" : 9}\n",
    "    entero=[]\n",
    "    for i in archivo:\n",
    "        nu=values[i[0]]*(26**3)*(10**3)+values[i[1]]*(26**2)*(10**3)+numeros[i[2]]*(26**2)*(10**2)+numeros[i[3]]*(26**2)*10+numeros[i[4]]*(26**2)+values[i[5]]*26+values[i[6]]+1\n",
    "        entero.append(nu)\n",
    "    return entero\n",
    "    "
   ]
  },
  {
   "cell_type": "code",
   "execution_count": 7,
   "metadata": {},
   "outputs": [],
   "source": [
    "mediciones=patentes_a_naturales(\"PATENTES.txt\") "
   ]
  },
  {
   "cell_type": "markdown",
   "metadata": {},
   "source": [
    "### 3. ¿Uniformemente distribuidos?\n",
    "Tenemos razones para pensar que las patentes observadas (o mejor dicho, los naturales\n",
    "que les asociaste) representan una variable aleatoria con distribución uniforme.\n",
    "\n",
    " **1.** Aplicá el test de Kolmogorov-Smirnov sobre la muestra y presentá en una misma figura: la distribución teórica y la experimental, el estadístico observado, el p-valor, y decinos si con una significancia $α = 0.05$ se puede rechazar la hipótesis nula."
   ]
  },
  {
   "cell_type": "markdown",
   "metadata": {},
   "source": [
    "<div style=\"text-align: justify\">  En primer lugar, el test de Kolmogorov Smirnov sirve para testear si una muestra de n observaciones independientes $x_1,x_2,......,x_n$ es consistente con provenir de una distribución de probabilidad $F(x)\\equiv P(t\\leq x)$ dada. En otras palabras, estoy testeando la hipótesis nula $H_0$:  $x_1,x_2,......,x_n$ provienen de una $F(x)$ determinada. Para eso, el test K-S utiliza el estadístico $T_k$, el cual se define como:</div>\n",
    "\n",
    "$$T_{k}=max\\left | S(x)-F(x) \\right |$$\n",
    "\n",
    "$\\hspace{1cm}$\n",
    "\n",
    "<div style=\"text-align: justify\"> donde $F(x)$ es la distribución de probabilidad teórica que es dato, y $S(x)$ es la distribución de probabilidad acumulativa de mis datos, es decir, la experimental. Ésta se calcula de la siguiente manera:</div>\n",
    "\n",
    "$$S(x)=\\left\\{\\begin{matrix}\n",
    "\\begin{aligned} 0 \\hspace{1cm}   x<x_1\\\\ \n",
    " \\frac{i}{n} \\hspace{0.5cm} x_i<x<x_{i+1}\\\\ \n",
    "1 \\hspace{1cm} x>x_n\n",
    "\\end{aligned}\n",
    "\\end{matrix}\\right.$$\n",
    "\n",
    "$\\hspace{1cm}$\n",
    "<div style=\"text-align: justify\"> Donde $x_1,......,x_n$ son mis datos ordenados de menor a mayor. Dadas estas definiciones, como $T_k$ es sólo función de mis datos, es un estadístico. </div>\n",
    "\n",
    "$\\hspace{1cm}$\n",
    "<div style=\"text-align: justify\"> Intuitivamente, para $H_0$ verdadera uno espera que la diferencia entre $S(x)$ y $F(x)$ en cualquier punto sea razonablemente pequeña. Es decir que cuánto mayor es el valor del estadístico $T_k$, mayor es el desacuerdo entre $F(x)$ y $S(x)$, por construcción de $T_k$. En particular, como $F(x)$ y $S(x)$ están acotadas entre 0  y 1, entonces $0<T_k<1$, ya que $T_k$ es la máxima diferencia en módulo. Un valor de $T_k$=1 significa total desacuerdo, mientras que un valor de $T_k$=0 implica total acuerdo de $S(x)$ con $F(x)$. \n",
    "  </div>\n",
    "\n"
   ]
  },
  {
   "cell_type": "markdown",
   "metadata": {},
   "source": [
    "<div style=\"text-align: justify\">  Dicho esto, lo que voy a hacer, en primer lugar, es calcular la distribución de probabilidad acumulativa experimental para mis datos $S(x)$.\n",
    "Después, calculo la distribución de probabilidad acumulativa teórica $F(x)$, que en nuestro caso es la correspondiente a una densidad de probabilidad uniforme discreta entre 1 y la patente más nueva vista hasta el día de este parcial. Este último dato es el dado en los enunciados del parcial. Se considera que al momento de este examen la patente más nueva en circulación\n",
    "es AD592MF (referencia página de Twitter $Locos$ $por$ $patentes$). Efectivamente, ésta es más nueva que todas las patentes observadas por mí. A la patente AD592MF le correnponde el natural 2428510, por lo que $F(x)$ es una uniforme en [1,2428510]. </div>"
   ]
  },
  {
   "cell_type": "code",
   "execution_count": 8,
   "metadata": {},
   "outputs": [
    {
     "data": {
      "text/plain": [
       "2428510"
      ]
     },
     "execution_count": 8,
     "metadata": {},
     "output_type": "execute_result"
    }
   ],
   "source": [
    "patente_a_natural(\"AD592MF\") #chequeo esto"
   ]
  },
  {
   "cell_type": "markdown",
   "metadata": {},
   "source": [
    "<div style=\"text-align: justify\"> Vale aclarar que use la patente más nueva vista por $Locos$ $por$ $patentes$ para el límite superior de la uniforme $F(x)$, y no la de mis datos, ya que en el test de Kolmogorov Smirnov, $F(x)$ no puede depender de los datos. Por lo que, en rigor, no sería válido tomar a la patente más nueva de mis datos como límite superior de la uniforme $F(x)$ (Frodesen, pág. 425). Esto es así para poder asumir que la distribución de $T_k$ es independiente de $F(x)$, y en particular para poder usar los $T_{critico}$ para distintos $\\alpha$. </div>\n",
    "$\\hspace{1cm}$\n",
    "<div style=\"text-align: justify\"> Teniendo ya definida $F(x)$ y $S(x)$, puedo calcular la máxima diferencia en módulo entre ellas, y eso, por definición, es el estadistico $T_k$. Para eso, lo que hago es evaluar, tanto $F(x)$ como $S(x)$, en todos los naturales de 1 a 2428510 (para naturales mayores a 2428510 tanto $F(x)$ como $S(x)$ son iguales a 1, por lo que la diferencia en ese rango es 0). Con eso calculo la máxima diferencia entre $F(x)$ y $S(x)$.</div>\n",
    "$\\hspace{1cm}$\n",
    "<div style=\"text-align: justify\"> En rigor, debería evaluar $F(x)$ y $S(x)$ en todos los números reales desde 1 hasta 2428510, y fijarme la máxima diferencia. Pero con la magnitud de la cantidad de números naturales que tenemos (2 millones), con evaluar en TODOS los naturales entre 1 y 2428510 (dos millones cuatrocientos veintiocho mil quinientos diez), es suficiente para calcular la máxima diferencia. </div>"
   ]
  },
  {
   "cell_type": "code",
   "execution_count": 9,
   "metadata": {},
   "outputs": [],
   "source": [
    "#Test de Kolmogorov \n",
    "\n",
    "x=np.sort(mediciones) #len 251, patentes observadas ordenadas de menor a mayor\n",
    "S=np.arange(1,len(x)+1)/len(x) #len 251, cada elemento tiene i/n, el ultimo elemento es 1 \n",
    "\n",
    "#defino esta función porque la voy a necesitar para asignarle un valor de F(x) a los naturales intermedios entre los datos\n",
    "nextLowest  = lambda seq,x: min([(x-i,i) for i in seq if x>=i] or [(0,None)])[1]"
   ]
  },
  {
   "cell_type": "markdown",
   "metadata": {},
   "source": [
    "Evaluo $S(x)$ en todos los naturales de 1 a 2428510."
   ]
  },
  {
   "cell_type": "markdown",
   "metadata": {},
   "source": [
    "**Nota**: lo que sigue tarda un poco en correr."
   ]
  },
  {
   "cell_type": "code",
   "execution_count": 10,
   "metadata": {},
   "outputs": [],
   "source": [
    "x_list=list(np.sort(mediciones))\n",
    "a=np.arange(min(x),2428510+1,1)\n",
    "Natural_S=[]\n",
    "for i in range(len(a)):\n",
    "    if (a[i] in x_list)==True:\n",
    "        Natural_S.append([a[i],S[x_list.index(a[i])]])\n",
    "    if (a[i] in x_list)==False:\n",
    "        Natural_S.append([a[i],  S[x_list.index(nextLowest(x_list,a[i]))]])"
   ]
  },
  {
   "cell_type": "markdown",
   "metadata": {},
   "source": [
    "Defino los valores de $S(x)=0$ para los naturales entre 1 y el mínimo de los naturales de mis datos."
   ]
  },
  {
   "cell_type": "code",
   "execution_count": 11,
   "metadata": {},
   "outputs": [
    {
     "data": {
      "text/plain": [
       "12054"
      ]
     },
     "execution_count": 11,
     "metadata": {},
     "output_type": "execute_result"
    }
   ],
   "source": [
    "#S_prima es mi S(x)\n",
    "#defino los valores de  S_prima=0 para los naturales entre 1 y el natural anterior al minimo de mis datos\n",
    "S_prima=[0]*(min(x)-1)\n",
    "len(S_prima) #chequeo"
   ]
  },
  {
   "cell_type": "code",
   "execution_count": 12,
   "metadata": {},
   "outputs": [
    {
     "data": {
      "text/plain": [
       "2428510"
      ]
     },
     "execution_count": 12,
     "metadata": {},
     "output_type": "execute_result"
    }
   ],
   "source": [
    "for i in Natural_S:\n",
    "    S_prima.append(i[1]) \n",
    "len(S_prima) #chequeo"
   ]
  },
  {
   "cell_type": "code",
   "execution_count": 13,
   "metadata": {},
   "outputs": [
    {
     "name": "stdout",
     "output_type": "stream",
     "text": [
      " El valor del estadístico T_k para mis datos es T_k*=0.06670228056647332\n"
     ]
    }
   ],
   "source": [
    "#Test de Kolmogorov \n",
    "\n",
    "naturales=np.arange(1,2428510+1,1) # naturales entre 1 y el natural de la patente mas nueva de LOCOS POR PATENTES \n",
    "#F es la F(x)\n",
    "F=sp.stats.randint.cdf(naturales, 1, 2428510+1) #uniforme discreta entre 1 y el natural de la patente mas nueva de\n",
    "                                                # LOCOS POR PATENTES\n",
    "dif=abs(S_prima-F)\n",
    "T_k=max(dif)\n",
    "print(\" El valor del estadístico T_k para mis datos es T_k*={}\".format(T_k)) "
   ]
  },
  {
   "cell_type": "code",
   "execution_count": 14,
   "metadata": {},
   "outputs": [
    {
     "data": {
      "text/plain": [
       "1700366"
      ]
     },
     "execution_count": 14,
     "metadata": {},
     "output_type": "execute_result"
    }
   ],
   "source": [
    "#Calculo para que natural se da la máxima diferencia. Esto me va a servir para hacer la figura y mostrar T_k*\n",
    "dif=list(dif)\n",
    "naturales[dif.index(T_k)]"
   ]
  },
  {
   "cell_type": "markdown",
   "metadata": {},
   "source": [
    "<div style=\"text-align: justify\"> Una forma de chequear si lo que hice está muy mal, es realizar el test de Kolmogorov Smirnov con alguna función de $scipy$. Es decir, comparar mi resultado del estadístico $T_k$ con el valor de éste arrojado por, por ejemplo, la función de $scipy$, llamada $ktest$, la cual  realiza un test de Kolmogorov-Smirnov sobre los datos y la $F(x)$ que uno le pasa. </div>"
   ]
  },
  {
   "cell_type": "code",
   "execution_count": 15,
   "metadata": {},
   "outputs": [
    {
     "data": {
      "text/plain": [
       "KstestResult(statistic=0.06670269234159465, pvalue=0.2049238656997192)"
      ]
     },
     "execution_count": 15,
     "metadata": {},
     "output_type": "execute_result"
    }
   ],
   "source": [
    "sp.stats.kstest(mediciones,\"randint\", args=(1,2428510+1)) #args le pasa los límites de la uniforme teórica F(x)"
   ]
  },
  {
   "cell_type": "markdown",
   "metadata": {},
   "source": [
    " El estadístico de Kolmogorov me dió $T_k^*=0.06670228056647332$, mientras que con la función de $scipy$ da $T_k^*=0.06670269234159465$. Estos dos coinciden hasta el septimo decimal. Y si tomo el resultado con 4 cifras signifcativas, tanto mi $T_k^*$ como el de $scipy$ dan los dos $T_k^*=0.06670$. "
   ]
  },
  {
   "cell_type": "markdown",
   "metadata": {},
   "source": [
    "<div style=\"text-align: justify\"> Ahora voy a calcular el p-valor para mi realización de $T_k$: $T_k^*=0.06670$. Para eso, primero voy a simular la distribución de $T_k$ si $H_0$ es cierta $f(T_k \\mid H_0)$, es decir, si es cierto que los datos provienen de una uniforme en [1,2428510].</div>\n",
    "$\\hspace{1cm}$\n",
    "<div style=\"text-align: justify\">\n",
    "Necesito $f(T_k \\mid H_0)$ ya que, por definición el p-valor es la probabilidad de medir un valor del estadístico igual o peor que el que medí si $H_0$ es cierta. En este caso, medir algo igual o peor que lo que medí es medir un $T_k$ igual o mayor que $T_k^*=0.06670$. Dicho todo esto, el p-valor en nuestro caso es $p-valor=P(T_k\\geq T_k^*=0.06670 \\mid H_0)$, donde se ve explícitamente que para calcular el p-valor necesito la distribución de $T_k$ cuando $H_0$ es cierta.</div>\n",
    "\n"
   ]
  },
  {
   "cell_type": "markdown",
   "metadata": {},
   "source": [
    "<div style=\"text-align: justify\">\n",
    "Primero simulo $f(T_k \\mid H_0)$. Para calcular la máxima diferencia entre $S(x)$ y $F(x)$, sólo voy a calcular la diferencia en los k=251 naturales medidos (los 251 simulados en este caso), ya que si vuelvo a hacer lo de evaluar $S(x)$ y $F(x)$ en todos los naturales en [1,2428510] para cada paso de las N=20000 simulaciones, me demanda mucho costo computacional y tarda mucho en correr. Si bien no es $100\\%$ consistente con cómo calcule el $T_k^*$, se puede pensar a esta simulación como una primera estimación de cuánto vale el p-valor. </div>\n",
    "$\\hspace{1cm}$\n",
    "<div style=\"text-align: justify\">\n",
    "**Nota**: para calcular mi $T_k^*$  había evaluado, tanto $F(x)$ como $S(x)$, en todos los naturales de 1 a 2428510.\n",
    "\n",
    "</div>"
   ]
  },
  {
   "cell_type": "code",
   "execution_count": 16,
   "metadata": {},
   "outputs": [],
   "source": [
    "t=[]\n",
    "for i in range(20000):\n",
    "    e=np.sort(sp.stats.randint.rvs(1, 2428510+1,size=251))\n",
    "    y=np.arange(1,len(e)+1)/len(e)\n",
    "    p=sp.stats.randint.cdf(e, 1, 2428510+1)\n",
    "    t.append(max(abs(y-p)))"
   ]
  },
  {
   "cell_type": "markdown",
   "metadata": {},
   "source": [
    "<div style=\"text-align: justify\">Antes de presentar el histograma para $f(T_k \\mid H_0)$ simulada, explico brevemente con qué criterio determiné las barras de error. Para estimar el error en las alturas de las barras de los histogramas voy a usar la desviación estándar de la distribución correspondiente al número de datos en una determinada clase (bin) de un histograma. En concreto, el error que le asigno a un bin es $\\sigma=\\sqrt{n_i}$ , donde $n_i$ es el número de entradas en el bin i-ésimo. Esto asume que el número de de datos que caen en un determinado bin es una variable aleatoria con distribución poissoneana, donde se aproximo $\\mu$ por el valor de $n_i$ medido, es decir:</div>\n",
    "$\\hspace{1cm}$\n",
    "\n",
    "\n",
    "$\\mu \\sim n_i \\hspace{1cm} \\rightarrow \\hspace{1cm} \\sigma=\\sqrt{\\mu}\\sim \\sqrt{n_i}$\n",
    "\n",
    "$\\hspace{1cm}$\n",
    "<div style=\"text-align: justify\">Esta elección puede justificarse de la siguiente manera: la variable aleatoria ¨número de de datos que caen en un determinado bin¨ puede ser pensada como poissoneana, siempre y cuando el número de datos del histograma sea alto (número de intentos grande), y la probabilidad de caer en un determinado bin sea baja (probabilidad de éxito tendiendo a cero). Para esto último, también necesito que el número de bines sea relativamente alto, asi efectivamente si hay muchos bines, la probabilidad de caer en uno determinado es muy baja. </div>\n",
    "$\\hspace{1cm}$\n",
    "<div style=\"text-align: justify\">Esto es equivalente a  pensar a la distribución de la variable aleatoria ¨número de de datos que caen en un determinado bin¨ como una binomial, en un cierto límite. El $éxito$ corresponde a que un dato caiga en un bin en particular. El fracaso corresponde a que un dato caiga en cualquier otro bin que no sea en el que estamos interesados. Cada $tirada$ $de$ $la$ $moneda$ es un dato del histograma que cae o no cae en el bin en cuestión y las $tiradas$ son independientes entre sí. </div>\n",
    "$\\hspace{1cm}$\n",
    "<div style=\"text-align: justify\">Por otro lado, el número de intentos n de la binomial es el número de datos del histograma. Además, la probabilidad de éxito $p$ la calcularía como el número de datos que cayeron en el bin en mi histograma sobre el número total de datos del histograma N. Con eso dicho, el error de un determinado bin sería $\\sigma=\\sqrt{ np(1-p)}$. Ahora: si estamos en el caso anteriormente mencionado, número de datos alto $n\\rightarrow\\infty$ y probabilidad de caer en un dado bin muy baja $p\\rightarrow 0$, estamos en el límite donde la binomial tiende a una Poisson. Dicho esto, en conclusión, el error que le asigno a la altura de un bin es el de la poissoneana $\\sigma=\\sqrt\\mu\\sim\\sqrt n_i$, donde  aproximo a $\\mu$ por $n_i$, es decir, el número de datos que cayó en el bin en mi histograma.</div>\n",
    "$\\hspace{1cm}$\n",
    "<div style=\"text-align: justify\">\n",
    "Por último, cuando normalizo los histogramas lo que hago es:\n",
    "$$n_i \\hspace{1cm} \\rightarrow \\hspace{1cm} \\frac{n_i}{N \\cdot w}$$\n",
    "</div>\n",
    "<div style=\"text-align: justify\">\n",
    "donde $N$ es el número de entradas del histograma y $w$ es el ancho de los bins (asumo que todos los bins tienen el mismo ancho, sino el w tiene un índice i).</div>\n",
    "\n",
    "$\\hspace{1cm}$\n",
    "Por lo que entonces, la normalización de los errores es:\n",
    "$$Var(\\frac{n_i}{N \\cdot w})=\\left ( \\frac{1}{N \\cdot w} \\right )^{2} Var(n_i) =\\left( \\frac{1}{N \\cdot w} \\right )^{2} n_i \\hspace{1cm} \\rightarrow \\hspace{1cm} \\sigma (\\frac{n_i}{N \\cdot w})=\\frac{1}{N \\cdot w}\\sqrt{n_i} $$"
   ]
  },
  {
   "cell_type": "markdown",
   "metadata": {},
   "source": [
    "Aclarado esto, prosigo a presentar el histograma para $f(T_k \\mid H_0)$ simulada."
   ]
  },
  {
   "cell_type": "code",
   "execution_count": 17,
   "metadata": {},
   "outputs": [
    {
     "data": {
      "image/png": "[encoded data removed]",
      "text/plain": [
       "<Figure size 504x324 with 1 Axes>"
      ]
     },
     "metadata": {},
     "output_type": "display_data"
    }
   ],
   "source": [
    "plt.figure(figsize=(7,4.5))\n",
    "\n",
    "N = len(t)\n",
    "hist, _ = np.histogram(t, bins=np.linspace(0,0.2,50), density=True)\n",
    "bins1=np.linspace(0,0.2,50)\n",
    "normed1 = N*(bins1[1]-bins1[0]) \n",
    "error =  np.sqrt(hist / normed1)\n",
    "plt.bar(x=bins1[:-1], height=hist, width=np.diff(bins1), yerr=error, edgecolor='black', ecolor=\"red\", capsize=2, label= r\"$f(T_k \\mid H_0)$\")\n",
    "plt.grid(True)\n",
    "plt.axvline(0.06670,c=\"orange\",label=r\"$T_k^*$\")\n",
    "plt.title(r\"Distribución del estadístico $T_k$ cuando $H_0$ es cierta\")\n",
    "plt.xlabel(r\"Valores de $T_k$\")\n",
    "plt.legend(loc = 'best')\n",
    "plt.tick_params(axis='both', labelsize=\"large\")\n",
    "plt.show()"
   ]
  },
  {
   "cell_type": "markdown",
   "metadata": {},
   "source": [
    "Ahora calculo el p-valor a partir de esta simulación como $p-valor=P(T_k\\geq T_k^*= 0.06670 \\mid H_0)$. Para eso me defino una función que haga eso. "
   ]
  },
  {
   "cell_type": "code",
   "execution_count": 19,
   "metadata": {},
   "outputs": [],
   "source": [
    "def p_value(lista,valor,posicion):\n",
    "    a=0\n",
    "    if posicion==\"mayor\":\n",
    "        for i in lista:\n",
    "            if i>=valor:\n",
    "                a+=1\n",
    "    if posicion==\"menor\":\n",
    "        for i in lista:\n",
    "            if i<=valor:\n",
    "                a+=1\n",
    "    return a/len(lista)"
   ]
  },
  {
   "cell_type": "code",
   "execution_count": 20,
   "metadata": {},
   "outputs": [
    {
     "data": {
      "text/plain": [
       "0.183"
      ]
     },
     "execution_count": 20,
     "metadata": {},
     "output_type": "execute_result"
    }
   ],
   "source": [
    "p_value(t,0.06670,\"mayor\")"
   ]
  },
  {
   "cell_type": "markdown",
   "metadata": {},
   "source": [
    "<div style=\"text-align: justify\">\n",
    "Para ver si el p-valor calculado de esta manera da muy mal, lo voy a comparar con el p-valor arrojado por la función de $scipy$: $kstest$ (la que usé para chequear el valor de $T_k^*$). \n",
    "</div>"
   ]
  },
  {
   "cell_type": "code",
   "execution_count": 21,
   "metadata": {},
   "outputs": [
    {
     "data": {
      "text/plain": [
       "KstestResult(statistic=0.06670269234159465, pvalue=0.2049238656997192)"
      ]
     },
     "execution_count": 21,
     "metadata": {},
     "output_type": "execute_result"
    }
   ],
   "source": [
    "sp.stats.kstest(mediciones,\"randint\", args=(1,2428510+1)) #args le pasa los límites de la uniforme teórica F(x)"
   ]
  },
  {
   "cell_type": "markdown",
   "metadata": {},
   "source": [
    "<div style=\"text-align: justify\"> Para nuestro valor de $T_k^*$, el p-valor=0.2049238656997192, calculado con $kstest$. Calculado con la simulación que realice obtuve un p-valor=0.183. Este valor no resulta estar muy alejado del arrojado por la función de $scipy$. Sin embargo, como respuesta al ejercicio voy a dar como p-valor el resultado arrojado por la función de $scipy$, que lo calculan más precisamente. Es decir, para mi resultado $T_k^*$=0.06670 el **p-valor =0.2049238656997192 $\\sim$ 0.205**.</div>"
   ]
  },
  {
   "cell_type": "markdown",
   "metadata": {},
   "source": [
    "<div style=\"text-align: justify\">\n",
    " Por otro lado, por tabla el $x$ tal que $P(T_k>x \\mid H_0)=\\alpha=0.2$ se calcula como $x=\\frac{1.07}{\\sqrt{n}}$\n",
    "donde n es el número de datos (Frodesen pág. 486). En nuestro caso n=251. Calculo x a continuación. </div>"
   ]
  },
  {
   "cell_type": "code",
   "execution_count": 126,
   "metadata": {},
   "outputs": [
    {
     "data": {
      "text/plain": [
       "0.06753780113146494"
      ]
     },
     "execution_count": 126,
     "metadata": {},
     "output_type": "execute_result"
    }
   ],
   "source": [
    "x=1.07/(251**(0.5))\n",
    "x"
   ]
  },
  {
   "cell_type": "markdown",
   "metadata": {},
   "source": [
    "<div style=\"text-align: justify\"> Es decir que este valor de p-valor$\\sim$0.205 para  $T_k^*$=0.06670 tiene sentido (no está tan mal calculado), ya que por tabla el valor de x tal que $P(T_k>x \\mid H_0)=\\alpha=0.2$ para n=251 es x=0.06753780113146494. Es decir: $x\\sim T_k^*$ para un $\\alpha\\sim $p-valor.</div>"
   ]
  },
  {
   "cell_type": "markdown",
   "metadata": {},
   "source": [
    "<div style=\"text-align: justify\"> Ahora lo que falta decir es si con una significancia $\\alpha = 0.05$ se puede rechazar la hipótesis nula $H_0$. Dado que el p-valor es más grande que $\\alpha$, $0.205>0.050$, entonces con una significancia $\\alpha = 0.05$ no puedo rechazar la hipótesis nula de que mis datos provienen de una uniforme en [1,2428510]. En particular, por definición el p-valor es la máxima significancia que le podemos pedir al test antes de rechazar $H_0$. Por lo que con cualquier significancia $\\alpha<0.205$ acepto $H_0$, es decir que acepto la hipótesis de que mi muestra proviene de una $F(x)$ uniforme en la región antes mencionada. \n",
    "</div>"
   ]
  },
  {
   "cell_type": "markdown",
   "metadata": {},
   "source": [
    "Finalmente, muestro la figura que pide el enunciado."
   ]
  },
  {
   "cell_type": "code",
   "execution_count": 22,
   "metadata": {},
   "outputs": [
    {
     "data": {
      "image/png": "[encoded data removed]",
      "text/plain": [
       "<Figure size 576x396 with 1 Axes>"
      ]
     },
     "metadata": {},
     "output_type": "display_data"
    }
   ],
   "source": [
    "plt.figure(figsize=(8,5.5))\n",
    "\n",
    "#S(x)\n",
    "x=np.sort(mediciones)\n",
    "S=np.arange(1,len(x)+1)/len(x)\n",
    "# con la funcion step me asegure que grafique escalones\n",
    "plt.step(x,S,where='post',  label = 'S(x)')\n",
    "\n",
    "#F(x)\n",
    "naturales=np.arange(1,2428510+1,1)\n",
    "F=sp.stats.randint.cdf(naturales, 1, 2428510+1)\n",
    "plt.step(naturales,F,where='post', label = 'F(x)')\n",
    "\n",
    "#T_k*\n",
    "plt.plot([1700366,1700366],[S_prima[1700366], F[1700366]], 'r',lw=2.5,label = r'$T_k^*$')\n",
    "\n",
    "#p-valor\n",
    "plt.text(0.5, 0.5, \"p-valor=0.205\",fontsize=18)\n",
    "\n",
    "# Detalles del gráfico\n",
    "plt.grid(True) \n",
    "plt.title('Test de Kolmogorov-Smirnov')\n",
    "plt.xlabel('Naturales (patentes)')\n",
    "plt.legend(loc = 'best') \n",
    "plt.ticklabel_format(style='sci', axis='x', scilimits=(0,0),useMathText=True)\n",
    "plt.tick_params(axis='both', labelsize=\"large\")\n",
    "plt.show()"
   ]
  },
  {
   "cell_type": "markdown",
   "metadata": {},
   "source": [
    "**2.** Considerá ahora, como hipótesis alternativa, que la distribución de patentes es\n",
    "exponencial de parámetro $λ=4 × 10^{−7}$ y calculá la potencia del test del ítem anterior."
   ]
  },
  {
   "cell_type": "markdown",
   "metadata": {},
   "source": [
    "<div style=\"text-align: justify\"> La potencia del test se define como la probabilidad de rechazar $H_0$ cuando $H_0$ es falsa, o equivalentemente es la probabilidad de aceptar $H_1$ cuando $H_1$ es verdadera. Entonces para calcular la potencia, necesito la distribución del estadístico $T_k$ pero cuando $H_1$ es cierta, es decir, $f(T_k \\mid H_1)$. Matemáticamente calcular la potencia del test, es decir, calcular la probabilidad de aceptar $H_1$ cuando $H_1$ es verdadera, es equivalente a calcular:\n",
    "$\\hspace{1cm}$\n",
    "$$Potencia=P(T_k>T_{critico}\\mid H_1)=\\int _{T_{critico}}^{T_{k}^{max}=1}f_{T_k}(t \\mid H_1)dt$$\n",
    "\n",
    "$\\hspace{1cm}$\n",
    "\n",
    "<div style=\"text-align: justify\">\n",
    "En otras palabras, integrar $f(T_k \\mid H_1)$ en la zona donde rechazo $H_0$ (acepto $H_1$), es decir, en $T_k>T_{critico}$. </div>\n",
    "$\\hspace{1cm}$\n",
    "\n",
    "<div style=\"text-align: justify\">\n",
    "Voy a calcular el $T_{critico}$ para nuestro caso, que es el de n=251 y $\\alpha=0.05$. Por tabla el $T_{critico}$ tal que $P(T_k>T_{critico})=\\alpha=0.05$ se calcula como $T_{critico}=\\frac{1.36}{\\sqrt{n}}$\n",
    "donde n es el número de datos (Frodesen pág. 486). En nuestro caso n=251. Calculo $T_{critico}$ a continuación. </div>\n",
    "\n",
    "\n",
    "\n"
   ]
  },
  {
   "cell_type": "code",
   "execution_count": 23,
   "metadata": {},
   "outputs": [
    {
     "data": {
      "text/plain": [
       "0.08584243882130124"
      ]
     },
     "execution_count": 23,
     "metadata": {},
     "output_type": "execute_result"
    }
   ],
   "source": [
    "T_c=1.36/(251**(0.5))\n",
    "T_c"
   ]
  },
  {
   "cell_type": "markdown",
   "metadata": {},
   "source": [
    "<div style=\"text-align: justify\"> Dicho esto, consigo  $f(T_k \\mid H_1)$ a continuación mediante una simulación. Vale aclarar que a la hora de simular  $f(T_k \\mid H_1)$, trunque la distribución exponencial en el valor 2428510, natural correspondiente a la patente AD592MF, la cual utilice como límite superior de la distribución uniforme teórica en el inciso anterior (esta patente era la más nueva vista por $Locos$ $por$ $patentes$ hasta el día del parcial). Es necesario truncar la exponencial en ese valor, ya que sino, al simular $f(T_k \\mid H_1)$, tengo probabilidad no nula de generar patentes más nuevas que AD592MF. En particular, al usar el generador de números aleatorios de la exponencial puedo obtener un número asociado a una patente AZ000AA, la cual es mentira que está en circulación. \n",
    "</div>\n",
    "$\\hspace{1cm}$\n",
    "<div style=\"text-align: justify\"> Aclarado eso, simulo $f(T_k \\mid H_1)$.</div>"
   ]
  },
  {
   "cell_type": "code",
   "execution_count": 24,
   "metadata": {},
   "outputs": [],
   "source": [
    "def truncar(x):\n",
    "    if x > 2428510:\n",
    "        return False\n",
    "    else:\n",
    "        return True  "
   ]
  },
  {
   "cell_type": "markdown",
   "metadata": {},
   "source": [
    "**Nota**: lo que sigue tarda un poco en correr."
   ]
  },
  {
   "cell_type": "code",
   "execution_count": 25,
   "metadata": {},
   "outputs": [],
   "source": [
    "lam=(4*(10**(-7)))**(-1) #lambda\n",
    "t2=[]\n",
    "for i in range(20000):\n",
    "    efinal=[]\n",
    "    e=sorted(sp.stats.expon.rvs(scale=lam, size=251))\n",
    "    d=list(filter(truncar,e))\n",
    "    for i in d:\n",
    "        efinal.append(i)\n",
    "    while len(efinal)<251:\n",
    "        e2=sp.stats.expon.rvs(scale=lam, size=1)\n",
    "        d3=list(filter(truncar,e2))\n",
    "        if len(d3)!=0:\n",
    "            for i in d3:\n",
    "                efinal.append(i)\n",
    "    efinal=sorted(efinal)\n",
    "    y=np.arange(1,len(efinal)+1)/len(efinal)\n",
    "    p=sp.stats.randint.cdf(efinal, 0, 2428510+1)\n",
    "    t2.append(max(abs(y-p)))"
   ]
  },
  {
   "cell_type": "markdown",
   "metadata": {},
   "source": [
    "Muestro el resultado de la simulación para $f(T_k \\mid H_1)$ junto con la anteriormente simulada $f(T_k \\mid H_0)$  y $T_{critico}$ para nuestro caso."
   ]
  },
  {
   "cell_type": "code",
   "execution_count": 26,
   "metadata": {},
   "outputs": [
    {
     "data": {
      "image/png": "[encoded data removed]",
      "text/plain": [
       "<Figure size 504x324 with 1 Axes>"
      ]
     },
     "metadata": {},
     "output_type": "display_data"
    },
    {
     "data": {
      "image/png": "[encoded data removed]",
      "text/plain": [
       "<Figure size 504x324 with 1 Axes>"
      ]
     },
     "metadata": {},
     "output_type": "display_data"
    }
   ],
   "source": [
    "plt.figure(figsize=(7,4.5))\n",
    "\n",
    "N = len(t)\n",
    "hist, _ = np.histogram(t, bins=np.linspace(0.02,0.25,50), density=True)\n",
    "bins1=np.linspace(0.02,0.25,50)\n",
    "normed1 = N*(bins1[1]-bins1[0]) \n",
    "error =  np.sqrt(hist / normed1)\n",
    "plt.bar(x=bins1[:-1], height=hist, width=np.diff(bins1), yerr=error, edgecolor='black', ecolor=\"red\", capsize=2, label= r\"$f(T_k \\mid H_0)$\")\n",
    "plt.grid(True)\n",
    "plt.axvline(0.08584243882130124,c=\"orange\",label=r\"$T_{critico}$ para $\\alpha=0.05$\")\n",
    "plt.title(r\"Distribución del estadístico $T_k$ cuando $H_0$ es cierta\")\n",
    "plt.xlabel(r\"Valores de $T_k$\")\n",
    "plt.legend(loc = 'best')\n",
    "plt.tick_params(axis='both', labelsize=\"large\")\n",
    "plt.show()\n",
    "\n",
    "plt.figure(figsize=(7,4.5))\n",
    "\n",
    "N2 = len(t2)\n",
    "hist, _ = np.histogram(t2, bins=np.linspace(0.02,0.25,50), density=True)\n",
    "bins2=np.linspace(0.02,0.25,50)\n",
    "normed2 = N2*(bins2[1]-bins2[0]) \n",
    "error =  np.sqrt(hist / normed2)\n",
    "plt.bar(x=bins2[:-1], height=hist, width=np.diff(bins2), yerr=error, edgecolor='black', ecolor=\"red\", capsize=2, label= r\"$f(T_k \\mid H_1)$\")\n",
    "plt.grid(True)\n",
    "plt.axvline(0.08584243882130124,c=\"orange\",label=r\"$T_{critico}$ para $\\alpha=0.05$\")\n",
    "plt.title(r\"Distribución del estadístico $T_k$ cuando $H_1$ es cierta\")\n",
    "plt.xlabel(r\"Valores de $T_k$\")\n",
    "plt.legend(loc = 'best')\n",
    "plt.tick_params(axis='both', labelsize=\"large\")\n",
    "plt.show()"
   ]
  },
  {
   "cell_type": "markdown",
   "metadata": {},
   "source": [
    "Por todo lo anteriormente dicho, la potencia es igual a $P(T_k>T_{critico}\\mid H_1)$, es decir, la integral desde el $T_{critico}$ hacia la $derecha$ del segundo plot. Entonces calculo eso."
   ]
  },
  {
   "cell_type": "code",
   "execution_count": 27,
   "metadata": {},
   "outputs": [
    {
     "data": {
      "text/plain": [
       "0.9811"
      ]
     },
     "execution_count": 27,
     "metadata": {},
     "output_type": "execute_result"
    }
   ],
   "source": [
    "a=0\n",
    "T_c=0.08584243882130124\n",
    "for i in t2: #simulaciones de T_k si H_1 es verdadera\n",
    "    if i>=T_c:\n",
    "        a+=1\n",
    "potencia=a/len(t2) #numero de evento mayores o igual a T_c sobre el total de eventos simulados\n",
    "potencia"
   ]
  },
  {
   "cell_type": "markdown",
   "metadata": {},
   "source": [
    "<div style=\"text-align: justify\">\n",
    "Respuesta: la potencia de este test es 0.9811. Cabe aclarar que el valor de la potencia depende fuertemente de la cantidad de patentes que cada uno haya registrado. Esto es así, porque el $T_{critico}$ depende explicitamente del n (número de datos), y cuanto menor es el n , mayor es el $T_{critico}$ (recuerdo que $T_{critico}=\\frac{1.36}{\\sqrt{n}}$ para $\\alpha=0.05$). Esto quiere decir que a menor n, el $T_{critico}$ se corre a la derecha, por lo que la integral para calcular la potencia $P(T_k>T_{critico}\\mid H_1)=\\int _{T_{critico}}^{T_{k}^{max}=1}f_{T_k}(t \\mid H_1)dt$ va a dar más chica. Es decir que alguien que haya tomado n=100 patentes, obtendrá una potencia del test menor que la mía que tome n=251 patentes. Mientras que alguien que haya tomado más de 251 patentes obtendrá una potencia mayor. </div>\n",
    "\n",
    "**Nota**: este razonamiento lo pense para una cantidad de datos $n>80$, para los cuales, tanto $f(T_k \\mid H_1)$ como $f(T_k \\mid H_0)$ no dependen de n (Frodesen pág. 425). Por lo que a medida que aumento n, la distribución de $T_k$ no cambia, pero el $T_{critico}$ si disminuye, por lo que es esperable obtener mayor potencia a mayor cantidad de datos. "
   ]
  },
  {
   "cell_type": "markdown",
   "metadata": {},
   "source": [
    "### 4. La patente del auto más nuevo\n",
    "$\\hspace{1cm}$\n",
    "<div style=\"text-align: justify\">\n",
    "Para motivar este ítem del parcial, podes leer sobre lo que en estadística se conoce como El\n",
    "problema de los Tanques alemanes. Aquí, nos limitaremos a decir que, la distribución de\n",
    "probabilidad de m (el natural correspondiente a la patente más nueva observada), puede\n",
    "escribirse en función del número total de patentes nuevas observadas k y del número de\n",
    "autos con patentes nuevas en circulación n, de la siguiente manera:</div>\n",
    "$\\hspace{1cm}$\n",
    "$$P(m \\mid k,n)=\\frac{\\binom{m-1}{k-1}}{\\binom{n}{k}}$$\n",
    "\n",
    "$\\hspace{1cm}$\n",
    "donde $k \\leq m \\leq n$.\n",
    "<div style=\"text-align: justify\">\n",
    "**1.** Repetí N veces el experimento de generar k realizaciones de una variable aleatoria\n",
    "con distribución uniforme en [0, n], y para cada experimento calculá el valor de m.\n",
    "Presentá una figura con la distribución $P(m \\mid k, n)$ así obtenida.</div>"
   ]
  },
  {
   "cell_type": "markdown",
   "metadata": {},
   "source": [
    "Voy a repetir N=100000 veces el experimento de generar k=251 realizaciones con distribución uniforme discreta en [0, n], para dos n:\n",
    "$n_1=2428510$ y $n_2=2600000$. "
   ]
  },
  {
   "cell_type": "code",
   "execution_count": 28,
   "metadata": {},
   "outputs": [],
   "source": [
    "m_1=[]\n",
    "for i in range (100000):\n",
    "    m_1.append(max(sp.stats.randint.rvs(0, 2428510+1,size=251)))"
   ]
  },
  {
   "cell_type": "code",
   "execution_count": 29,
   "metadata": {},
   "outputs": [],
   "source": [
    "m_2=[]\n",
    "for i in range (100000):\n",
    "    m_2.append(max(sp.stats.randint.rvs(0, 2600000+1,size=251)))"
   ]
  },
  {
   "cell_type": "markdown",
   "metadata": {},
   "source": [
    "Voy a escribir una función para $P(m \\mid k,n)$. Si desarrollo los factoriales me queda:\n",
    "\n",
    "$$P(m\\mid k,n)=\\frac{k!(m-1)!(n-k)!}{(k-1)!(m-k)!n!}=\\frac{k(m-1)(m-2)....(m-(k-1))}{n(n-1)....(n-(k-1))}$$\n",
    "\n",
    "Utilizo esta fórmula para calcular $P(m \\mid k,n)$."
   ]
  },
  {
   "cell_type": "code",
   "execution_count": 30,
   "metadata": {},
   "outputs": [],
   "source": [
    "def p(m,k,n):\n",
    "    coc=[]\n",
    "    for i in range(1,k):\n",
    "        coc.append((m-i)/(n-i))\n",
    "    coc=np.array(coc)\n",
    "    return (np.prod(coc)*k)/n"
   ]
  },
  {
   "cell_type": "code",
   "execution_count": 32,
   "metadata": {},
   "outputs": [
    {
     "data": {
      "image/png": "[encoded data removed]",
      "text/plain": [
       "<Figure size 504x324 with 1 Axes>"
      ]
     },
     "metadata": {},
     "output_type": "display_data"
    },
    {
     "data": {
      "image/png": "[encoded data removed]",
      "text/plain": [
       "<Figure size 504x324 with 1 Axes>"
      ]
     },
     "metadata": {},
     "output_type": "display_data"
    }
   ],
   "source": [
    "plt.figure(figsize=(7,4.5))\n",
    "\n",
    "N2 = len(m_1)\n",
    "hist, _ = np.histogram(m_1, bins=np.linspace(min(m_1),max(m_1),50), density=True)\n",
    "bins2=np.linspace(min(m_1),max(m_1),50)\n",
    "normed2 = N2*(bins2[1]-bins2[0]) \n",
    "error =  np.sqrt(hist / normed2)\n",
    "plt.bar(x=bins2[:-1],align=\"edge\", height=hist, width=np.diff(bins2), yerr=error, edgecolor='black', ecolor=\"red\", capsize=2, label= r\"$P(m \\mid k,n)$ simulada\")\n",
    "plt.grid(True)\n",
    "plt.title(r\"$P(m \\mid k=251,n=2428510)$\")\n",
    "plt.xlabel(\"Valores de m\")\n",
    "bins3=np.linspace(min(m_1),max(m_1)-1000,50)\n",
    "squares = np.array([p(xi,251,2428510) for xi in bins3])\n",
    "plt.plot(bins3,squares,\"orange\",label= r\"$P(m \\mid k,n)$ usando la fórmula\")\n",
    "plt.legend(loc = 'best')\n",
    "plt.tick_params(axis='both', labelsize=\"large\")\n",
    "plt.ticklabel_format(style='sci', axis='both', scilimits=(0,0),useMathText=True)\n",
    "\n",
    "plt.show()\n",
    "\n",
    "plt.figure(figsize=(7,4.5))\n",
    "\n",
    "N2 = len(m_2)\n",
    "hist, _ = np.histogram(m_2, bins=np.linspace(min(m_2),max(m_2),50), density=True)\n",
    "bins2=np.linspace(min(m_2),max(m_2),50)\n",
    "normed2 = N2*(bins2[1]-bins2[0]) \n",
    "error =  np.sqrt(hist / normed2)\n",
    "plt.bar(x=bins2[:-1],align=\"edge\", height=hist, width=np.diff(bins2), yerr=error, edgecolor='black', ecolor=\"red\", capsize=2, label= r\"$P(m \\mid k,n)$ simulada\")\n",
    "plt.grid(True)\n",
    "plt.title(r\"$P(m \\mid k=251,n=2600000)$\")\n",
    "plt.xlabel(\"Valores de m\")\n",
    "bins3=np.linspace(min(m_2),max(m_2)-1000,50)\n",
    "squares = np.array([p(xi,251,2600000) for xi in bins3])\n",
    "plt.plot(bins3,squares,\"orange\",label= r\"$P(m \\mid k,n)$ usando la fórmula\")\n",
    "plt.legend(loc = 'best')\n",
    "plt.tick_params(axis='both', labelsize=\"large\")\n",
    "plt.ticklabel_format(style='sci', axis='both', scilimits=(0,0),useMathText=True)\n",
    "plt.show()"
   ]
  },
  {
   "cell_type": "markdown",
   "metadata": {},
   "source": [
    "<div style=\"text-align: justify\">Esta simulación sirve como chequeo de que efectivamente la fórmula $P(m \\mid k, n)$ representa la distribución de\n",
    "probabilidad de la variable aleatoria m (el natural correspondiente a la patente más nueva si observo k patentes) cuando las patentes provienen de una distribución uniforme en  [0, n]. </div>\n",
    "\n",
    "$\\hspace{1cm}$\n",
    "\n",
    "<div style=\"text-align: justify\">Como no mantuve el mismo eje x para ambos plots, no se observa, pero para n más grande (e igual k=251)  $P(m \\mid k, n)$ se corre a la derecha. Para ver eso, ploteo ambas  $P(m \\mid k, n)$  (calculadas con la fórmula) en el mismo gráfico. </div>"
   ]
  },
  {
   "cell_type": "code",
   "execution_count": 56,
   "metadata": {},
   "outputs": [
    {
     "data": {
      "image/png": "[encoded data removed]",
      "text/plain": [
       "<Figure size 504x324 with 1 Axes>"
      ]
     },
     "metadata": {},
     "output_type": "display_data"
    }
   ],
   "source": [
    "plt.figure(figsize=(7,4.5))\n",
    "plt.grid(True)\n",
    "plt.xlabel(\"Valores de m\")\n",
    "bins3=np.linspace(min(m_1),max(m_1)-1000,50)\n",
    "squares = np.array([p(xi,251,2428510) for xi in bins3])\n",
    "plt.plot(bins3,squares,\"r\",label= r\"$P(m \\mid k=251,n=2428510)$\")\n",
    "bins3=np.linspace(min(m_2),max(m_2)-1000,50)\n",
    "squares = np.array([p(xi,251,2600000) for xi in bins3])\n",
    "plt.plot(bins3,squares,\"g\",label= r\"$P(m \\mid k=251,n=2600000)$\")\n",
    "plt.legend(loc = 'best')\n",
    "plt.tick_params(axis='both', labelsize=\"large\")\n",
    "plt.ticklabel_format(style='sci', axis='both', scilimits=(0,0),useMathText=True)\n",
    "\n",
    "plt.show()"
   ]
  },
  {
   "cell_type": "markdown",
   "metadata": {},
   "source": [
    "**2.** Sin hacer un cálculo analítico, sino usando la computadora e inferencia bayesiana\n",
    "con un prior no informativo, encontrá la distribución $P(n \\mid k, m)$."
   ]
  },
  {
   "cell_type": "markdown",
   "metadata": {},
   "source": [
    "Para eso, voy a utilizar la fórmula de Bayes:\n",
    "\n",
    "$$P(n \\mid k, m)=AP(m \\mid k, n)\\Pi (n)$$\n",
    "\n",
    "$\\hspace{1cm}$\n",
    "\n",
    "donde A es una constante de normalización, $P(m \\mid k, n)$ es la likelihood de mis mediciones, que en nuestro caso como mido una sola vez m, es directamente $P(m \\mid k, n)$, la cual viene dada por la fórmula antes mencionada. Finalmente $\\Pi (n)$ es el prior, que en este caso debe ser \"no informativo\", es decir:\n",
    "$\\hspace{1cm}$\n",
    "\n",
    "$$\\Pi (n)=\\left\\{\\begin{matrix}\n",
    "0 \\hspace{1cm} n< m^*\\\\ \n",
    "1 \\hspace{1cm} n\\geq m^*\n",
    "\\end{matrix}\\right. $$\n",
    "\n",
    "donde voy a considerar que $m^*$ es el m medido, es decir, el natural asociado a la patente más nueva vista. En otras palabras, mi prior permite que n tome valores igual o mayores al $m^*$ observado con igual probabilidad, ya que es \"no informativo\". "
   ]
  },
  {
   "cell_type": "markdown",
   "metadata": {},
   "source": [
    "Lo que voy a hacer en este inciso es hacer una función general para calcular $P(n \\mid k, m)$ para cualquier k y m. Luego en el inciso siguiente, evaluo en mi k y $m^*$."
   ]
  },
  {
   "cell_type": "code",
   "execution_count": 34,
   "metadata": {},
   "outputs": [],
   "source": [
    "def p(m,k,n):   #probabilidad de m\n",
    "    coc=[]\n",
    "    for i in range(1,k):\n",
    "        coc.append((m-i)/(n-i))\n",
    "    coc=np.array(coc)\n",
    "    return (np.prod(coc)*k)/n"
   ]
  },
  {
   "cell_type": "code",
   "execution_count": 42,
   "metadata": {},
   "outputs": [],
   "source": [
    "def posterior(k,m,nc):\n",
    "    p_n_m=[]\n",
    "    n=np.arange(m,nc+1,1)\n",
    "    for i in n:\n",
    "        p_n_m.append(p(m,k,i))\n",
    "    A=sum(p_n_m) #normalizo\n",
    "    p_n=np.array(p_n_m)\n",
    "    p_n=p_n/A\n",
    "    n_0=np.arange(1,m,1)\n",
    "    ntot=np.append(n_0,n)\n",
    "    p_0=np.array([0]*len(n_0))\n",
    "    ptot=np.append(p_0,p_n)\n",
    "    return ntot, ptot"
   ]
  },
  {
   "cell_type": "markdown",
   "metadata": {},
   "source": [
    "<div style=\"text-align: justify\"> El nc es un n de corte para el cual $P(m= \\mid k, nc)$ ya es despreciable. Esto lo hago, ya que en rigor el n podría ir hasta el natural asociado a la patente ZZ999ZZ (456976000). Por ejemplo, si para calcular el posterior uso m= 2412985 y k=251, ya para n=2600000 $P(m=2412985 \\mid k=251, n=2600000)$ es despreciable, por lo que no vale la pena calcular el resto de los  $P(m=2412985 \\mid k=251, n)$ para n's más grandes.</div>"
   ]
  },
  {
   "cell_type": "markdown",
   "metadata": {},
   "source": [
    "Chequeo que $P(m=2412985 \\mid k=251, n=2600000)$ sea despreciable."
   ]
  },
  {
   "cell_type": "code",
   "execution_count": 36,
   "metadata": {},
   "outputs": [
    {
     "data": {
      "text/plain": [
       "7.579014211693339e-13"
      ]
     },
     "execution_count": 36,
     "metadata": {},
     "output_type": "execute_result"
    }
   ],
   "source": [
    "p(2412985,251,2600000)"
   ]
  },
  {
   "cell_type": "markdown",
   "metadata": {},
   "source": [
    "**3.** Ahora que tenés una distribución para n, usando tus valores observados en la calle\n",
    "para k y m, decinos cual es tu estimación bayesiana para n. "
   ]
  },
  {
   "cell_type": "markdown",
   "metadata": {},
   "source": [
    "Lo que hago ahora es aplicar la función $posterior$ con mis valores de k y m. Mi k es 251, pues es el número de patentes observadas. Mi m es $m^*$= 2412985, es decir, el máximo entre los naturales asociados a las patentes observadas por mí. Voy a tomar como nc=2600000, ya que acabo de demostrar que para ese nc  $P(m= \\mid k, nc)$ es despreciable."
   ]
  },
  {
   "cell_type": "code",
   "execution_count": 43,
   "metadata": {},
   "outputs": [],
   "source": [
    "n,p_n=posterior(251,2412985,2600000)\n",
    "# me devulve la tira de n y la p(n) para cada n bien normalizado"
   ]
  },
  {
   "cell_type": "markdown",
   "metadata": {},
   "source": [
    "Voy a graficar el posterior obtenido con mis k y $m^*$, es decir, $P(n \\mid k=251,m=2412985)$."
   ]
  },
  {
   "cell_type": "code",
   "execution_count": 57,
   "metadata": {},
   "outputs": [
    {
     "data": {
      "image/png": "[encoded data removed]",
      "text/plain": [
       "<Figure size 504x324 with 1 Axes>"
      ]
     },
     "metadata": {},
     "output_type": "display_data"
    }
   ],
   "source": [
    "plt.figure(figsize=(7,4.5))\n",
    "plt.plot(n,p_n,\"ro\",markersize=1,label=r\"$P(n \\mid k=251,m=2412985)$\")\n",
    "plt.xlim((2400000, 2480000)) \n",
    "plt.ticklabel_format(style='sci', axis='Both', scilimits=(0,0),useMathText=True)\n",
    "plt.grid(True)\n",
    "plt.xlabel(\"Valores de n\")\n",
    "plt.legend(loc = 'best')\n",
    "plt.tick_params(axis='both', labelsize=\"large\")\n",
    "plt.title(r\"$P(n \\mid k=251,m=2412985)$\")\n",
    "plt.show()"
   ]
  },
  {
   "cell_type": "markdown",
   "metadata": {},
   "source": [
    "Vale aclarar que $P(n \\mid k=251,m=2412985)$ está graficada con puntos, ya que en rigor, la distribución para n es discreta. Sin embargo, por la cantidad de puntos no se llegan a distinguir los puntos.Y que para todo $n<m^*=2412985$, $P(n\\mid k=251,m=2412985)=0$ (aunque no se muestren en el plot)."
   ]
  },
  {
   "cell_type": "markdown",
   "metadata": {},
   "source": [
    "Ahora calculo el estimador bayesiano de n, es decir, la esperanza del posterior. Esto lo calculo como la sumatoria de cada valor de n por su probabilidad, es decir:\n",
    "\n",
    "$$E(n)=\\sum _{n}nP(n\\mid k,m)$$"
   ]
  },
  {
   "cell_type": "code",
   "execution_count": 52,
   "metadata": {},
   "outputs": [
    {
     "data": {
      "text/plain": [
       "2422674.6973212245"
      ]
     },
     "execution_count": 52,
     "metadata": {},
     "output_type": "execute_result"
    }
   ],
   "source": [
    "e=sum((n*p_n))\n",
    "e"
   ]
  },
  {
   "cell_type": "markdown",
   "metadata": {},
   "source": [
    "El estimador bayesiano para n con este posterior es $n \\sim 2422675$. En principio este tiene sentido ya que es más grande que mi $m^*=2412985$ medido."
   ]
  },
  {
   "cell_type": "markdown",
   "metadata": {},
   "source": [
    "Ahora puedo calcular la desviación estándar de n a partir de $P(n\\mid k=251,m=2412985)$ como:\n",
    "\n",
    "\n",
    "$$Var(n)=\\sum _{n}(n-E(n))^{2}P(n\\mid k,m)  \\hspace{1cm} \\rightarrow \\hspace{1cm} \\sigma(n)=\\sqrt{\\sum _{n}(n-E(n))^{2}P(n\\mid k,m)}$$\n"
   ]
  },
  {
   "cell_type": "code",
   "execution_count": 58,
   "metadata": {},
   "outputs": [
    {
     "data": {
      "text/plain": [
       "8962.581627788919"
      ]
     },
     "execution_count": 58,
     "metadata": {},
     "output_type": "execute_result"
    }
   ],
   "source": [
    "sigma_n=(sum(((n-2422675)**2)*p_n))**(1/2)\n",
    "sigma_n"
   ]
  },
  {
   "cell_type": "markdown",
   "metadata": {},
   "source": [
    "La estimación bayesiana de mi n es $n=(2422675 \\pm 8963)$. Si consideramos que \"el valor real de n\" al día del examen era el natural asociado a AD592MF (2428510), el intervalo bayesiano con la receta $E(n)\\pm \\sqrt{Var(n)}$ contiene al valor real de n."
   ]
  },
  {
   "cell_type": "markdown",
   "metadata": {},
   "source": [
    "**4.** Si consideramos que al momento de este examen la patente más nueva en circulación es AD592MF, calculá cuanta suerte tuviste el día que armaste tu lista. Es decir, ¿cuál es la probabilidad de que hagas lo mismo y obtengas una estimación igual o\n",
    "peor que la obtenida para la patente más nueva en circulación."
   ]
  },
  {
   "cell_type": "markdown",
   "metadata": {},
   "source": [
    "La estimación de n depende fuertemente de la patente más nueva observada $m^*$. Esto se debe a que nuestro prior $\\Pi (n)$ está determinado por el  $m^*$ medido. Por lo tanto, para un $m^*$ medido más grande espero una mejor estimación de n, mientras que si mido un  $m^*$ más chico, obtendré una peor estimación de n. En este ítem, nos dicen que consideremos a n como el natural asociado a la patente AD592MF, es decir, $n=2428510$. Mi pregunta es qué pasa si justo hubiese medido $m^*=n=2428510$. La estimación de n en ese caso, ¿Es mejor o peor que la que obtuvimos con  $m^*=2412985$? \n"
   ]
  },
  {
   "cell_type": "code",
   "execution_count": 70,
   "metadata": {},
   "outputs": [],
   "source": [
    "def posterior(k,m,nc):\n",
    "    p_n_m=[]\n",
    "    n=np.arange(m,nc+1,10)\n",
    "    for i in n:\n",
    "        p_n_m.append(p(m,k,i))\n",
    "    A=sum(p_n_m) #normalizo\n",
    "    p_n=np.array(p_n_m)\n",
    "    p_n=p_n/A\n",
    "    return n, p_n"
   ]
  },
  {
   "cell_type": "markdown",
   "metadata": {},
   "source": [
    "Lo que voy a hacer es barrer el m desde el que medi hasta m=n y fijarme para cuáles obtengo una mejor estimación de n que tomando $m^*=2412985$ (el que medi). Luego el p-valor va a ser la suma de las probabilidades de los m para los cuales se obtiene una estimación de n igual o peor que con $m^*=2412985$."
   ]
  },
  {
   "cell_type": "code",
   "execution_count": 117,
   "metadata": {},
   "outputs": [],
   "source": [
    "e=[]\n",
    "m=np.arange(2412985,2428510,1000)\n",
    "for i in m:\n",
    "    n_prima,p_n_prima=posterior(251,i,2460000)\n",
    "    e.append(sum((n_prima*p_n_prima)))"
   ]
  },
  {
   "cell_type": "code",
   "execution_count": 126,
   "metadata": {},
   "outputs": [
    {
     "data": {
      "image/png": "[encoded data removed]",
      "text/plain": [
       "<Figure size 432x288 with 1 Axes>"
      ]
     },
     "metadata": {},
     "output_type": "display_data"
    }
   ],
   "source": [
    "plt.plot(m,e)\n",
    "plt.plot(m,[2428510]*len(e),label=\"E(n)\")\n",
    "plt.ticklabel_format(style='sci', axis='Both', scilimits=(0,0),useMathText=True)\n",
    "plt.grid(True)\n",
    "plt.show()"
   ]
  },
  {
   "cell_type": "markdown",
   "metadata": {},
   "source": [
    "Como vemos, desde cierto $m>m^*$ empiezo a obtener una estimación peor para n que con nuestro $m^*=2412985$. Voy a ver cuales son esos ms. Después, el p-valor es la probabilidad de obtener esos ms (aparte de los $m<m^*$ para los cuales tambien obtengo una peor estimacion de n, lo que se ve de la relacion lineal entre m y E(n))."
   ]
  },
  {
   "cell_type": "code",
   "execution_count": 129,
   "metadata": {},
   "outputs": [],
   "source": [
    "dist=2428510- 2422675\n",
    "m_pva=[]\n",
    "for i in range(len(e)):\n",
    "    if abs(e[i]-2428510)>=dist:\n",
    "        m_pva.append(m[i])\n"
   ]
  },
  {
   "cell_type": "code",
   "execution_count": 130,
   "metadata": {},
   "outputs": [],
   "source": [
    "def p(m,k,n):   #probabilidad de m\n",
    "    coc=[]\n",
    "    for i in range(1,k):\n",
    "        coc.append((m-i)/(n-i))\n",
    "    coc=np.array(coc)\n",
    "    return (np.prod(coc)*k)/n"
   ]
  },
  {
   "cell_type": "code",
   "execution_count": 131,
   "metadata": {},
   "outputs": [],
   "source": [
    "pvalore=[]\n",
    "for i in m_pva:\n",
    "    pvalore.append(p(i,251,2428510))"
   ]
  },
  {
   "cell_type": "code",
   "execution_count": 132,
   "metadata": {},
   "outputs": [
    {
     "data": {
      "text/plain": [
       "0.00028673328552709877"
      ]
     },
     "execution_count": 132,
     "metadata": {},
     "output_type": "execute_result"
    }
   ],
   "source": [
    "sum(pvalore)"
   ]
  },
  {
   "cell_type": "markdown",
   "metadata": {},
   "source": [
    "Al final la probabilidad de esos $m>m^*$ era casi despreciable. Ahora lo que hago entonces es calcular como p-valor la probabilidad de obtener $m<m^*$, para los cuales obtengo una peor estimación de n (se ve en el gráfico anterior que la relación es lineal entre m y la esperanza de n). Es decir\n",
    "\n",
    "$$p-valor=P(251\\leq m \\leq m^*=  2412985 \\mid k= 251,n=2428510)=\\sum _{m=k=251}^{m=m^*= 2412985 }P(m \\mid k=251,n=2428510)=\\sum _{m=k=251}^{m=m^*= 2412985 }\\frac{\\binom{m-1}{251-1}}{\\binom{2428510}{251}}$$ "
   ]
  },
  {
   "cell_type": "markdown",
   "metadata": {},
   "source": [
    "Eso es lo mismo que el resultado del ejercicio7, por lo que p-valor=0.14 (ver ejercicio 7)."
   ]
  },
  {
   "cell_type": "markdown",
   "metadata": {},
   "source": [
    "### 5. ¿Independiente del barrio?\n",
    "En este punto debes compartir tu muestra con otro estudiante de la materia. De este\n",
    "intercambio ambos tendrán dos muestras. Es importante que elijas para el intercambio a\n",
    "alguien que haya tomado los datos en un barrio distinto al tuyo, cuanto más alejado esté\n",
    "mejor."
   ]
  },
  {
   "cell_type": "markdown",
   "metadata": {},
   "source": [
    "Importo la segunda muestra de patentes, tomadas en San Martín, Provincia de Buenos Aires, las cuales me fueron compartidas por Alexis Luszczak. Elegi ésta, ya que es la muestra tomada más alejada de Caballito que encontre."
   ]
  },
  {
   "cell_type": "code",
   "execution_count": 74,
   "metadata": {},
   "outputs": [],
   "source": [
    "mediciones2=patentes_a_naturales(\"san_martin.txt\")\n",
    "mediciones2=list(set(mediciones2)) #elimino patentes repetidas dentro de la muestra 2"
   ]
  },
  {
   "cell_type": "code",
   "execution_count": 75,
   "metadata": {},
   "outputs": [
    {
     "data": {
      "text/plain": [
       "198"
      ]
     },
     "execution_count": 75,
     "metadata": {},
     "output_type": "execute_result"
    }
   ],
   "source": [
    "len(mediciones2)"
   ]
  },
  {
   "cell_type": "markdown",
   "metadata": {},
   "source": [
    "Voy a llamar muestra 1 a mi muestra (tomada en Caballito) y muestra 2 a la de Alexis (tomada en San Martín). Chequeo si hay patentes repetidas entre la muestra 1 y 2."
   ]
  },
  {
   "cell_type": "code",
   "execution_count": 76,
   "metadata": {},
   "outputs": [],
   "source": [
    "for i in mediciones:\n",
    "    if (i in mediciones2)==True:\n",
    "        print(\"repetida\")"
   ]
  },
  {
   "cell_type": "markdown",
   "metadata": {},
   "source": [
    "**1.** Aplicá el test de Wilcoxon para testear si ambas muestras provienen de poblaciones\n",
    "con la misma esperanza y calculá el p-valor ($p_w$)"
   ]
  },
  {
   "cell_type": "markdown",
   "metadata": {},
   "source": [
    "$\\hspace{1cm}$\n",
    "<div style=\"text-align: justify\">\n",
    "El test de Wilcoxon lo que propone es lo siguiente. Se tienen dos muestras  $x_1,x_2,.....,x_n$ e $y_1,y_2,.....,y_m$ con $n\\leq m$. Se quiere testear la hipótesis nula $H_0$ de que ambas muestras provienen de la misma población. Para eso, se ordena las (n+m) observaciones de menor a mayor. En esta muestra combinada y ordenada, se le asigna un rango a cada observación, desde 1 para la menor de las (n+m) observaciones, hasta rango=n+m para la observación con valor más grande de todas. El estadístico del test de  Wilcoxon ($W$) se construye sumando los n rangos de las observaciones de la muestra x. Si $H_0$ es verdadera, se espera que las observaciones de x e y estén bien mezcladas, y por lo tanto el valor de $W$ no debería ser ni tan chico ni tan grande. Es por eso que se toma el test $a$ $dos$ $colas$ (two-sided) para testear  $H_0$. </div>\n",
    "$\\hspace{1cm}$\n",
    "<div style=\"text-align: justify\">\n",
    "Teniendo eso en cuenta se definen:\n",
    "</div>\n",
    "$$\\bar{W}=\\frac{n}{2}(n+m+1)$$\n",
    "$$Var(W)=\\frac{nm}{12}(n+m+1)$$\n",
    "$\\hspace{1cm}$\n",
    "\n",
    "<div style=\"text-align: justify\">\n",
    "Cabe aclarar que para $n,m>10$ ya vale la aproximación gaussiana para la distribución del $W$ cuando $H_0$ es cierta ($f(W \\mid H_0)$). En nuestro caso, n=198 y m=251, por lo que vale la aproximación gaussiana (referencia: Frodesen pág. 451). \n",
    "</div>\n",
    "$\\hspace{1cm}$"
   ]
  },
  {
   "cell_type": "code",
   "execution_count": 77,
   "metadata": {},
   "outputs": [
    {
     "name": "stdout",
     "output_type": "stream",
     "text": [
      "[198, 251]\n"
     ]
    }
   ],
   "source": [
    "#chequeo los valores de n y m \n",
    "n=len(mediciones2)\n",
    "m=len(mediciones)\n",
    "print([n,m])"
   ]
  },
  {
   "cell_type": "markdown",
   "metadata": {},
   "source": [
    "Ahora, armo un diccionario para saber de cuál muestra (1 ó 2) proviene cada patente."
   ]
  },
  {
   "cell_type": "code",
   "execution_count": 78,
   "metadata": {},
   "outputs": [],
   "source": [
    "d=dict()\n",
    "for i in mediciones:\n",
    "    d[i]=\"a\"\n",
    "for i in mediciones2:\n",
    "    d[i]=\"b\""
   ]
  },
  {
   "cell_type": "markdown",
   "metadata": {},
   "source": [
    "Junto las dos muestras en una sola lista y la ordeno de mayor a menor."
   ]
  },
  {
   "cell_type": "code",
   "execution_count": 79,
   "metadata": {},
   "outputs": [],
   "source": [
    "total=[]\n",
    "for i in mediciones:\n",
    "    total.append(i)\n",
    "for i in mediciones2:\n",
    "    total.append(i)\n",
    "    \n",
    "total=sorted(total)"
   ]
  },
  {
   "cell_type": "markdown",
   "metadata": {},
   "source": [
    "Defino la lista $rank$ que tiene los rangos desde 1 hasta el número total de patentes (n+m). Luego sumo los rangos pertenecientes a la muestra que tiene menos elementos, en este caso, sumo los rangos para los elementos de la muestra 2 (San Martín). "
   ]
  },
  {
   "cell_type": "code",
   "execution_count": 80,
   "metadata": {},
   "outputs": [
    {
     "data": {
      "text/plain": [
       "42516"
      ]
     },
     "execution_count": 80,
     "metadata": {},
     "output_type": "execute_result"
    }
   ],
   "source": [
    "rank=np.arange(1,len(total)+1,1)\n",
    "rangos=[]\n",
    "for i in range(len(total)):\n",
    "    if d[total[i]]==\"b\":\n",
    "        rangos.append(rank[i])\n",
    "w=sum(rangos) \n",
    "w"
   ]
  },
  {
   "cell_type": "markdown",
   "metadata": {},
   "source": [
    "La realización del estadístico $W$ en mis datos fue $W^*=42516$. Ahora, falta calcular el p-valor ($p_w$). Para eso voy a usar la aproximación gaussiana válida en nuestro caso (n,m>10) para $f(W \\mid H_0)$. Necesito calcular, entonces, $\\bar{W}$ y $Var(W)$. "
   ]
  },
  {
   "cell_type": "code",
   "execution_count": 81,
   "metadata": {},
   "outputs": [],
   "source": [
    "n=len(mediciones2)\n",
    "m=len(mediciones)"
   ]
  },
  {
   "cell_type": "code",
   "execution_count": 82,
   "metadata": {},
   "outputs": [
    {
     "data": {
      "text/plain": [
       "44550.0"
      ]
     },
     "execution_count": 82,
     "metadata": {},
     "output_type": "execute_result"
    }
   ],
   "source": [
    "w_prom=(n/2)*(n+m+1)\n",
    "w_prom"
   ]
  },
  {
   "cell_type": "code",
   "execution_count": 83,
   "metadata": {},
   "outputs": [
    {
     "data": {
      "text/plain": [
       "1863675.0"
      ]
     },
     "execution_count": 83,
     "metadata": {},
     "output_type": "execute_result"
    }
   ],
   "source": [
    "v=(n*m/12)*(n+m+1)\n",
    "v"
   ]
  },
  {
   "cell_type": "markdown",
   "metadata": {},
   "source": [
    " <div style=\"text-align: justify\"> Como $W^*<W_{prom}$, voy a usar para el p-valor la cola inferior. Sin embargo, eso va a ser la mitad del p-valor, ya que medir un $W$ relativamente muy chico es igual de malo que medir un $W$ relativamente muy grande cuando mi $H_0$ es que ambas muestras provienen de la misma población, como se mencionó anteriormente. En concreto, en este caso el p-valor se calcula como:\n",
    "$$p_w=2\\int_{-\\infty}^{W^*}f(W \\mid H_0) \\sim 2\\int_{-\\infty}^{W^*} N(\\mu =\\bar{W},\\sigma =\\sqrt{Var(W)})$$\n",
    " \n",
    " </div>"
   ]
  },
  {
   "cell_type": "code",
   "execution_count": 84,
   "metadata": {},
   "outputs": [
    {
     "data": {
      "text/plain": [
       "0.13624264787281484"
      ]
     },
     "execution_count": 84,
     "metadata": {},
     "output_type": "execute_result"
    }
   ],
   "source": [
    "p_valor=2*sp.stats.norm.cdf((w-w_prom)/(v**(1/2)))\n",
    "p_valor"
   ]
  },
  {
   "cell_type": "markdown",
   "metadata": {},
   "source": [
    "La respuesta a este inciso es $p_w=0.13624264787281484 \\sim 0.14$. Esto es equivalente a decir que la máxima significancia del test $W$ antes de rechazar $H_0$ (ambas muestras de patentes provienen de la misma población) es $\\alpha \\sim 0.14$."
   ]
  },
  {
   "cell_type": "markdown",
   "metadata": {},
   "source": [
    "Ahora veo si mis valores de $W^*$ y $p_w$ son consistentes con los arrojados por el test de Wilcoxon de scipy. Para eso, calculo el valor de $W^*$ pasado a la Normal (0,1):"
   ]
  },
  {
   "cell_type": "code",
   "execution_count": 85,
   "metadata": {},
   "outputs": [
    {
     "data": {
      "text/plain": [
       "-1.4899299794675067"
      ]
     },
     "execution_count": 85,
     "metadata": {},
     "output_type": "execute_result"
    }
   ],
   "source": [
    "(w-w_prom)/(v**(1/2))"
   ]
  },
  {
   "cell_type": "code",
   "execution_count": 86,
   "metadata": {},
   "outputs": [
    {
     "data": {
      "text/plain": [
       "RanksumsResult(statistic=1.4899299794675067, pvalue=0.13624264787281484)"
      ]
     },
     "execution_count": 86,
     "metadata": {},
     "output_type": "execute_result"
    }
   ],
   "source": [
    "sp.stats.ranksums(mediciones,mediciones2)"
   ]
  },
  {
   "cell_type": "markdown",
   "metadata": {},
   "source": [
    "Efectivamente los valores de $W^*$ y $p_w$ arrojados por la función de $scipy$ son iguales a los obtenidos hasta el último decimal, por lo que no hice las cosas tan mal."
   ]
  },
  {
   "cell_type": "markdown",
   "metadata": {},
   "source": [
    "<div style=\"text-align: justify\">\n",
    "**2.** Ahora nos gustaría que apliques el estadístico propuesto en el **problema 4 de la guía\n",
    "de Test de Hipótesis**. Pero antes, notá que no es correcto usar que tiene distribución\n",
    "t-student. ¿Por qué? Tomando como hipótesis nula que la distribución de patentes\n",
    "es uniforme, encontrá computacionalmente la distribución del estadístico propuesto. </div>"
   ]
  },
  {
   "cell_type": "markdown",
   "metadata": {},
   "source": [
    "\n",
    "<div style=\"text-align: justify\"> Recuerdo el estadístico propuesto por el **problema 4 de la guía de Test de Hipótesis**. </div>\n",
    "$\\hspace{1cm}$\n",
    "\n",
    "<div style=\"text-align: justify\"> Considere dos muestras independientes $X_{1},.....,X_{n}$ e $Y_{1},.....,Y_{m}$. Se quiere testear la hipótesis nula $H_{0}$ de que las dos provienen de una misma distribución , mientras que la hipótesis alternativa $H_{1}$ es que no provienen de una misma distribución. Considero el siguiente estadístico.  </div>\n",
    "\n",
    "\n",
    "$$U=\\left ( \\bar{X}-\\bar{Y} \\right )\\sqrt{\\frac{m+n-2}{(\\frac{1}{m}+\\frac{1}{n})(s^{2}_{X}+s^{2}_{Y})}}$$\n",
    "\n",
    "<div style=\"text-align: justify\"> Con $s^{2}_{X}=\\sum ^{n}_{i}(X_i-\\bar{X})^{2}$ y $s^{2}_{Y}=\\sum ^{m}_{i}(Y_i-\\bar{Y})^{2}$</div>"
   ]
  },
  {
   "cell_type": "markdown",
   "metadata": {},
   "source": [
    "<div style=\"text-align: justify\"> En nuestro caso, las muestras $X$ e $Y$ son las dos muestras de patentes de Caballito y de San Martín. La hipótesis nula $H_0$, como dice el enunciado del **problema 4 de la guía de Test de Hipótesis** es que las dos muestras $X$ e $Y$ provienen de la misma distribución, que en nuestro caso es una uniforme en [1,2428510], donde el límite superior de la uniforme es el natural que le corresponde a la patente AD592MF, la cual se considera la patente más nueva en circulación al momento de este parcial (dato de enunciado). Efectivamente esta patente es más nueva que todas las patentes encontradas por mí y por Alexis. </div>\n",
    "$\\hspace{1cm}$\n",
    "<div style=\"text-align: justify\">\n",
    "En este caso la distribución de $U$ no es t-student porque acá la hipótesis nula $H_0$ ya no es que $X$ e $Y$ provienen de la misma distribución gaussiana. Como $H_0$ ahora es que $X$ e $Y$ provienen de la misma uniforme, la distribución de U cuando $H_0$ es cierta no es más una t-student. Entonces, lo que voy a hacer ahora es encontrar la distribución de U cuando $H_0$ es verdadera, es decir, $f(U \\mid H_0)$</div>"
   ]
  },
  {
   "cell_type": "code",
   "execution_count": 98,
   "metadata": {},
   "outputs": [],
   "source": [
    "u=[]\n",
    "for i in range(10000):\n",
    "    x=sp.stats.randint.rvs(0, 2428510+1,size=len(mediciones))\n",
    "    y=sp.stats.randint.rvs(0, 2428510+1,size=len(mediciones2))\n",
    "    m=len(y)\n",
    "    n=len(x)\n",
    "    sx=sum((x-np.mean(x))**2)\n",
    "    sy=sum((y-np.mean(y))**2)\n",
    "    u.append((np.mean(x)-np.mean(y))*((m+n-2)/((1/m +1/n)*(sx+sy)))**(1/2))"
   ]
  },
  {
   "cell_type": "markdown",
   "metadata": {},
   "source": [
    "Grafico la $f(U \\mid H_0)$ encontrada mediante la simulación previa."
   ]
  },
  {
   "cell_type": "code",
   "execution_count": 90,
   "metadata": {},
   "outputs": [
    {
     "data": {
      "image/png": "[encoded data removed]",
      "text/plain": [
       "<Figure size 504x324 with 1 Axes>"
      ]
     },
     "metadata": {},
     "output_type": "display_data"
    }
   ],
   "source": [
    "plt.figure(figsize=(7,4.5))\n",
    "\n",
    "N = len(u)\n",
    "hist, _ = np.histogram(u, bins=np.arange(min(u),max(u),0.25), density=True)\n",
    "binss=np.arange(min(u),max(u),0.25)\n",
    "normed = N*(binss[1]-binss[0])\n",
    "error =  np.sqrt(hist / normed)\n",
    "plt.bar(x=binss[:-1],align=\"edge\", height=hist, width=np.diff(binss), yerr=error, edgecolor='black', ecolor=\"red\", capsize=2, label= r\"$f(U,H_0)$\")\n",
    "plt.grid(True)\n",
    "plt.title(r\"Distribución del estadístico $U$ cuando $H_0$ es cierta\")\n",
    "plt.xlabel(r\"Valores de $U$\")\n",
    "plt.legend(loc = 'best')\n",
    "plt.tick_params(axis='both', labelsize=\"large\")\n",
    "plt.show()\n",
    "\n",
    "\n"
   ]
  },
  {
   "cell_type": "markdown",
   "metadata": {},
   "source": [
    "Como la distribución $f(U \\mid H_0)$ tiene mucha $pinta$ de una Normal(0,1), voy a graficarle dicha distribución encima."
   ]
  },
  {
   "cell_type": "code",
   "execution_count": 91,
   "metadata": {},
   "outputs": [
    {
     "data": {
      "image/png": "[encoded data removed]",
      "text/plain": [
       "<Figure size 504x324 with 1 Axes>"
      ]
     },
     "metadata": {},
     "output_type": "display_data"
    }
   ],
   "source": [
    "plt.figure(figsize=(7,4.5))\n",
    "\n",
    "N = len(u)\n",
    "hist, _ = np.histogram(u, bins=np.arange(min(u),max(u),0.25), density=True)\n",
    "binss=np.arange(min(u),max(u),0.25)\n",
    "normed = N*(binss[1]-binss[0])\n",
    "error =  np.sqrt(hist / normed)\n",
    "plt.bar(x=binss[:-1],align=\"edge\", height=hist, width=np.diff(binss), yerr=error, edgecolor='black', ecolor=\"red\", capsize=2, label= r\"$f(U,H_0)$\")\n",
    "plt.grid(True)\n",
    "plt.title(r\"Distribución del estadístico $U$ cuando $H_0$ es cierta\")\n",
    "plt.xlabel(r\"Valores de $U$\")\n",
    "plt.legend(loc = 'best')\n",
    "plt.tick_params(axis='both', labelsize=\"large\")\n",
    "bins2=np.linspace(min(u),max(u),45)\n",
    "p=sp.stats.norm.pdf(bins2)\n",
    "plt.plot(bins2,p,\"orange\")\n",
    "plt.show()"
   ]
  },
  {
   "cell_type": "markdown",
   "metadata": {},
   "source": [
    "Tiene sentido que $f(U \\mid H_0)$ tenga forma de una Normal(0,1), ya que el test $U$ es una de las muchas formas del test $t$, para el cual para nuestros valores de n=251  y m=198 ya vale la aproximación gaussiana. Además, tiene sentido que tieda a una gaussiana con esperanza nula, ya que estoy construyendo  $f(U \\mid H_0)$ bajo la hipótesis de que $X$ e $Y$ provienen de la misma distribución. "
   ]
  },
  {
   "cell_type": "markdown",
   "metadata": {},
   "source": [
    "**3.** Aplicá sobre tus observaciones el test construido en el ítem anterior (ahora que si\n",
    "conoces la distribución de su estadístico) y calculá el p-valor ($p_t$).\n"
   ]
  },
  {
   "cell_type": "markdown",
   "metadata": {},
   "source": [
    "Voy a calcular el valor de mi estadístico en mis datos, es decir, $U^*$."
   ]
  },
  {
   "cell_type": "code",
   "execution_count": 87,
   "metadata": {},
   "outputs": [
    {
     "data": {
      "text/plain": [
       "1.4699651750545393"
      ]
     },
     "execution_count": 87,
     "metadata": {},
     "output_type": "execute_result"
    }
   ],
   "source": [
    "m=len(mediciones)\n",
    "n=len(mediciones2)\n",
    "sx=sum((mediciones-np.mean(mediciones))**2)\n",
    "sy=sum((mediciones2-np.mean(mediciones2))**2)\n",
    "u_med=(np.mean(mediciones)-np.mean(mediciones2))*((m+n-2)/((1/m +1/n)*(sx+sy)))**(1/2)\n",
    "u_med"
   ]
  },
  {
   "cell_type": "code",
   "execution_count": 99,
   "metadata": {},
   "outputs": [
    {
     "data": {
      "image/png": "[encoded data removed]",
      "text/plain": [
       "<Figure size 504x324 with 1 Axes>"
      ]
     },
     "metadata": {},
     "output_type": "display_data"
    }
   ],
   "source": [
    "plt.figure(figsize=(7,4.5))\n",
    "\n",
    "N = len(u)\n",
    "hist, _ = np.histogram(u, bins=np.arange(min(u),max(u),0.25), density=True)\n",
    "binss=np.arange(min(u),max(u),0.25)\n",
    "normed = N*(binss[1]-binss[0])\n",
    "error =  np.sqrt(hist / normed)\n",
    "plt.bar(x=binss[:-1],align=\"edge\", height=hist, width=np.diff(binss), yerr=error, edgecolor='black', ecolor=\"red\", capsize=2, label= r\"$f(U,H_0)$\")\n",
    "plt.grid(True)\n",
    "plt.axvline(1.4699651750545393,c=\"orange\",label=r\"$U^*$\")\n",
    "plt.title(r\"Distribución del estadístico $U$ cuando $H_0$ es cierta\")\n",
    "plt.xlabel(r\"Valores de $U$\")\n",
    "plt.legend(loc = 'best')\n",
    "plt.tick_params(axis='both', labelsize=\"large\")\n",
    "plt.show()"
   ]
  },
  {
   "cell_type": "markdown",
   "metadata": {},
   "source": [
    "<div style=\"text-align: justify\">\n",
    "El $U^*$ es 1.4699651750545393. Ahora me falta calcular el p-valor $p_t$. Para eso, vale aclarar que el test $U$ es $a$ $dos$ $colas$. Esto se puede ver de la forma que tiene el estadístico. El signo de $U$ lo da $(\\bar{X}-\\bar{Y})$. Como la hipótesis nula $H_0$ es que las muestras $X$ e $Y$ provienen de la misma distribución,  entonces medir algo peor que lo que medi ($U^*$), es medir un $U$ positivo más grande que $U^*$ o medir un $U$ negativo más grande que $U^*$. Dicho eso, calculo el p-valor a partir de $f(U \\mid H_0)$ simulada con la función antes definida.</div>"
   ]
  },
  {
   "cell_type": "code",
   "execution_count": null,
   "metadata": {},
   "outputs": [],
   "source": [
    "#def p_value(lista,valor,posicion):\n",
    " #   a=0\n",
    "  #  if posicion==\"mayor\":\n",
    "   #     for i in lista:\n",
    "    #        if i>=valor:\n",
    "     #           a+=1\n",
    "    #if posicion==\"menor\":\n",
    "    #    for i in lista:\n",
    "     #       if i<=valor:\n",
    "      #          a+=1\n",
    "    #return a/len(lista)"
   ]
  },
  {
   "cell_type": "code",
   "execution_count": 92,
   "metadata": {},
   "outputs": [
    {
     "data": {
      "text/plain": [
       "0.1342"
      ]
     },
     "execution_count": 92,
     "metadata": {},
     "output_type": "execute_result"
    }
   ],
   "source": [
    "p_t=2*p_value(u,1.4699651750545393,\"mayor\")\n",
    "p_t"
   ]
  },
  {
   "cell_type": "markdown",
   "metadata": {},
   "source": [
    "El p-valor usando los datos de mi simulación de $f(U \\mid H_0)$ da $p_t=$0.1342. Ahora voy a calcular de nuevo $p_t$ usando la aproximación de que $f(U \\mid H_0)\\sim N(0,1)$ por lo que vimos antes.\n",
    "\n",
    "$$p_t=2\\int_{U^*}^{\\infty}f(U \\mid H_0) \\sim 2\\int_{U^*}^{\\infty} N(\\mu =0,\\sigma =1)$$"
   ]
  },
  {
   "cell_type": "code",
   "execution_count": 93,
   "metadata": {},
   "outputs": [
    {
     "data": {
      "text/plain": [
       "0.14157118607801158"
      ]
     },
     "execution_count": 93,
     "metadata": {},
     "output_type": "execute_result"
    }
   ],
   "source": [
    "#Usando la aproximacion gaussiana \n",
    "p_t_prima=2*sp.stats.norm.sf(1.4699651750545393)\n",
    "p_t_prima"
   ]
  },
  {
   "cell_type": "markdown",
   "metadata": {},
   "source": [
    "El $p_t$ calculado con la aproximación $f(U \\mid H_0)\\sim N(0,1)$ no da muy alejado del $p_t$ obtenido usando la simulación de $f(U \\mid H_0)$, por lo que esa aproximación no estaba tan mal. "
   ]
  },
  {
   "cell_type": "markdown",
   "metadata": {},
   "source": [
    "### 6. Combinando los tests\n",
    "$\\hspace{1cm}$\n",
    "<div style=\"text-align: justify\">\n",
    "Una posible forma de combinar los p-valores obtenidos en los dos test aplicados en el\n",
    "punto anterior ($p_w$ y $p_t$) es a través del estadístico $T = -2 log(p_w · p_t)$. </div>\n",
    "$\\hspace{1cm}$\n",
    "<div style=\"text-align: justify\">\n",
    "**1.** Si los test fueran independientes, ¿que distribución esperás para T? </div>\n",
    "\n"
   ]
  },
  {
   "cell_type": "markdown",
   "metadata": {},
   "source": [
    "Me piden ver cuál es la distribución que espero para T cuando $H_0$ es cierta y los test son independientes. Para eso, primero veo un caso de cambio de variables más simple que es el siguiente. Si $X\\sim Unif[0,1]$, ¿$Y=-2log(X)$ que distribución tiene?. Hago a continuación la cuenta de cambio de variables.\n",
    "$\\hspace{1cm}$\n",
    "$$\\begin{split}\n",
    "F_{Y}(t) & = P(y\\leq t ) \\\\\n",
    " & = P(-2log(x)\\leq t) \\\\\n",
    "  & = P(ln(x)\\geq \\frac{-t}{2})\\\\\n",
    "  & = P(x\\geq e^{\\frac{-t}{2}})\\\\\n",
    "  & = 1-F_{x}(x=e^{\\frac{-t}{2}})\n",
    "\\end{split}$$\n",
    "$\\hspace{1cm}$\n",
    "$\\hspace{1cm}$\n",
    "\n",
    "\n",
    "$\\rightarrow$  $\\hspace{1cm}$ $f_{Y}(t)=\\frac{\\mathrm{d} }{\\mathrm{d} t}F_{Y}(t)=\\frac{\\mathrm{d} }{\\mathrm{d} t}(1-F_{x}(x=e^{\\frac{-t}{2}}) )=-f_{X}(x=e^{\\frac{-t}{2}})e^{\\frac{-t}{2}}\\frac{-1}{2}=\\frac{1}{2}e^{\\frac{-t}{2}}=\\chi ^{2}_{\\nu=2 }$\n",
    "\n",
    "Es decir que si $X\\sim Unif[0,1]$, entonces $Y=-2log(X)\\sim \\chi ^{2}_{\\nu=2 } $ (chi cuadrado de 2 grados de libertad)\n",
    "Por lo tanto, si tengo 2 p-valores $p_t$ y $p_w$ de diferentes estudios (y por lo tanto independientes), entonces:\n",
    "\n",
    "$$T = -2 log(p_w · p_t)=-2 log(p_w)-2 log(p_t)\\sim \\chi ^{2}_{\\nu=2 }+\\chi ^{2}_{\\nu=2 }\\sim \\chi ^{2}_{\\nu=4 }$$\n",
    "\n",
    "pues suma de chi cuadrados de n y m grados de libertad, es una chi cuadrado de n+m grados de libertad.\n",
    "\n",
    "\n",
    "En conclusión, si los test fueran independientes, la distribución que espero para $T = -2 log(p_w · p_t)$ es $\\chi ^{2}_{\\nu=4 }$, es decir, una chi cuadrado de 4 grados de libertad. Vale aclarar que esta es la distribución de T si la hipótesis nula es cierta, sino no vale que $p_w,p_t\\sim Unif[0,1]$. En conclusión, si los test son independientes:\n",
    "\n",
    "$$f(T \\mid H_0) \\sim \\chi ^{2}_{\\nu=4 }$$"
   ]
  },
  {
   "cell_type": "markdown",
   "metadata": {},
   "source": [
    "<div style=\"text-align: justify\">\n",
    "**2.** Estudiá que distribución tiene T si se construye con los p-valores dados por los dos\n",
    "test aplicados en el ítem anterior cuando las muestras provienen de poblaciones con\n",
    "la misma esperanza (es decir, cuando la hipótesis nula es verdadera). Usalo para\n",
    "calcular un nuevo p-valor que combine los resultados de ambos test ya aplicados. </div>"
   ]
  },
  {
   "cell_type": "markdown",
   "metadata": {},
   "source": [
    "Lo que voy a hacer es simular $f(T \\mid H_0)$ con $T = -2 log(p_w · p_t)$, donde $p_w$ es el p-valor del test de Wilcoxon y $p_t$ es el del test de $U$. Vale aclarar que estos test comparten la misma hipótesis nula $H_0$ de que las dos muestras (1 y 2, de Caballito y San Martín, respectivamente) provienen de una misma población, es decir, de una misma distribución. Sin embargo, los test $W$ y $U$ no son independientes, ya que se basan en el mismo experimento, es decir, toman para el test los mismos datos. En otras palabras, son dos tests distintos con igual $H_0$ para la misma tira de datos. Por lo tanto, no son independientes, están correlacionados al usar como input los mismos datos. Es por eso que para el estadístico T no espero, en nuestro caso, una distribución chi cuadrado de 4 grados de libertad. Entonces,para obtener $f(T \\mid H_0)$ voy a simularla."
   ]
  },
  {
   "cell_type": "code",
   "execution_count": 94,
   "metadata": {},
   "outputs": [],
   "source": [
    "pu=[]\n",
    "pw=[]\n",
    "m=len(mediciones)\n",
    "n=len(mediciones2)\n",
    "rank=np.arange(1,449+1,1)\n",
    "v=(n*m/12)*(n+m+1)\n",
    "w_prom=(n/2)*(n+m+1)\n",
    "for i in range(10000):\n",
    "    x=sp.stats.randint.rvs(1, 2428510+1,size=len(mediciones2))\n",
    "    y=sp.stats.randint.rvs(1,  2428510+1,size=len(mediciones))\n",
    "    sx=sum((x-np.mean(x))**2)\n",
    "    sy=sum((y-np.mean(y))**2)\n",
    "    u=(np.mean(x)-np.mean(y))*((m+n-2)/((1/m +1/n)*(sx+sy)))**(1/2)\n",
    "    if u>0:\n",
    "        pu.append(2*sp.stats.norm.sf(u))\n",
    "    if u<0:\n",
    "        pu.append(2*sp.stats.norm.cdf(u))\n",
    "    d=dict()\n",
    "    for i in y:\n",
    "        d[i]=\"a\"\n",
    "    for i in x:\n",
    "        d[i]=\"b\"\n",
    "    total=np.sort(np.append(x,y))\n",
    "    rangos=[]\n",
    "    for i in range(len(total)):\n",
    "        if d[total[i]]==\"b\":\n",
    "            rangos.append(rank[i]+1)\n",
    "    w=(sum(rangos)-w_prom)/(v**(1/2))\n",
    "    if w>=0:\n",
    "        pw.append(2*sp.stats.norm.sf(w))\n",
    "    if w<0:\n",
    "        pw.append(2*sp.stats.norm.cdf(w))\n",
    "        "
   ]
  },
  {
   "cell_type": "code",
   "execution_count": 95,
   "metadata": {},
   "outputs": [],
   "source": [
    "T=[]\n",
    "for i in range (len(pu)):\n",
    "    T.append(-2*np.log(pu[i]*pw[i]))"
   ]
  },
  {
   "cell_type": "markdown",
   "metadata": {},
   "source": [
    "Muestro con un histograma la distribución simulada $f(T \\mid H_0)$. Además voy a plotear una distribución chi cuadrado de 4 grados de libertad, la cual sería la distribución de T si los test fuesen independientes (además de $H_0$ verdadera)."
   ]
  },
  {
   "cell_type": "code",
   "execution_count": 261,
   "metadata": {},
   "outputs": [
    {
     "data": {
      "image/png": "[encoded data removed]",
      "text/plain": [
       "<Figure size 504x324 with 1 Axes>"
      ]
     },
     "metadata": {},
     "output_type": "display_data"
    }
   ],
   "source": [
    "plt.figure(figsize=(7,4.5))\n",
    "\n",
    "N = len(T)\n",
    "hist, _ = np.histogram(T, bins=np.linspace(min(T),max(T),50), density=True)\n",
    "binss=np.linspace(min(T),max(T),50)\n",
    "normed = N*(binss[1]-binss[0])\n",
    "error =  np.sqrt(hist / normed)\n",
    "plt.bar(x=binss[:-1],align=\"edge\", height=hist, width=np.diff(binss), yerr=error, edgecolor='black', ecolor=\"red\", capsize=2, label= r\"$f(T,H_0)$\")\n",
    "plt.grid(True)\n",
    "plt.title(r\"Distribución del estadístico $T$ cuando $H_0$ es cierta\")\n",
    "plt.xlabel(r\"Valores de $T$\")\n",
    "plt.legend(loc = 'best')\n",
    "plt.tick_params(axis='both', labelsize=\"large\")\n",
    "p=sp.stats.chi2.pdf(binss,4)\n",
    "plt.plot(binss,p,\"orange\")\n",
    "plt.show()"
   ]
  },
  {
   "cell_type": "markdown",
   "metadata": {},
   "source": [
    "Claramente la distribución de $f(T \\mid H_0)$ no es una chi cuadrado de 4 grados de libertad, que es lo que esperabamos, ya que los test $U$ y $W$ no son independientes. Voy a calcular mi $T^*$ con mis datos."
   ]
  },
  {
   "cell_type": "code",
   "execution_count": 105,
   "metadata": {},
   "outputs": [
    {
     "data": {
      "text/plain": [
       "8.003483723811518"
      ]
     },
     "execution_count": 105,
     "metadata": {},
     "output_type": "execute_result"
    }
   ],
   "source": [
    "p_w=0.13624264787281484\n",
    "p_t=0.1342\n",
    "t_med=-2*np.log(p_w*p_t)\n",
    "t_med"
   ]
  },
  {
   "cell_type": "code",
   "execution_count": 106,
   "metadata": {},
   "outputs": [
    {
     "data": {
      "image/png": "[encoded data removed]",
      "text/plain": [
       "<Figure size 504x324 with 1 Axes>"
      ]
     },
     "metadata": {},
     "output_type": "display_data"
    }
   ],
   "source": [
    "plt.figure(figsize=(7,4.5))\n",
    "\n",
    "N = len(T)\n",
    "hist, _ = np.histogram(T, bins=np.linspace(min(T),max(T),50), density=True)\n",
    "binss=np.linspace(min(T),max(T),50)\n",
    "normed = N*(binss[1]-binss[0])\n",
    "error =  np.sqrt(hist / normed)\n",
    "plt.bar(x=binss[:-1],align=\"edge\", height=hist, width=np.diff(binss), yerr=error, edgecolor='black', ecolor=\"red\", capsize=2, label= r\"$f(T,H_0)$\")\n",
    "plt.axvline(t_med,c=\"orange\",label=r\"$T^*$\")\n",
    "plt.grid(True)\n",
    "plt.title(r\"Distribución del estadístico $T$ cuando $H_0$ es cierta\")\n",
    "plt.xlabel(r\"Valores de $T$\")\n",
    "plt.legend(loc = 'best')\n",
    "plt.tick_params(axis='both', labelsize=\"large\")\n",
    "plt.show()"
   ]
  },
  {
   "cell_type": "markdown",
   "metadata": {},
   "source": [
    "Ahora lo que falta hacer es calcular el p-valor para mi $T^*$=7.924583792230138 $\\sim$ 7.92, es decir, voy a calcular un nuevo p-valor que combine los resultados de ambos test ($W$ y $U$) ya aplicados. Acá medir algo peor es medir un $T$ más grande, ya que eso implica que los p-valores $p_t$ y $p_w$ son más chicos. Para calcularlo uso la funcion p-value, antes definida."
   ]
  },
  {
   "cell_type": "code",
   "execution_count": 107,
   "metadata": {},
   "outputs": [
    {
     "data": {
      "text/plain": [
       "0.1402"
      ]
     },
     "execution_count": 107,
     "metadata": {},
     "output_type": "execute_result"
    }
   ],
   "source": [
    "p_value(T,t_med,\"mayor\")"
   ]
  },
  {
   "cell_type": "markdown",
   "metadata": {},
   "source": [
    "El nuevo p-valor que combina los resultados de ambos test ($W$ y $U$) ya aplicados resultó $p_{comb}=0.1402$."
   ]
  },
  {
   "cell_type": "markdown",
   "metadata": {},
   "source": [
    "### 7. Sé tu propio verdugo\n",
    "$\\hspace{1cm}$\n",
    "\n",
    "<div style=\"text-align: justify\">\n",
    "Aunque muy pero muy poco probable, cabe la posibilidad de que alguno de ustedes decidiera inventar la lista de patentes y como no podía ser de otra manera, pensamos aplicar un test de hipótesis para testearlo. El test que decidimos usar tendrá al valor de\n",
    "m que informaste como estadístico y su distribución será la dada por la ecuación: </div>\n",
    "$$P(m;k,n)=\\frac{\\binom{m-1}{k-1}}{\\binom{n}{k}}$$\n",
    "$\\hspace{1cm}$\n",
    "<div style=\"text-align: justify\">\n",
    "Tomaremos para n el natural correspondiente a la patente AD592MF, y para k, el número de patentes que hayas dicho que observaste. Con eso sabremos cuan probable es que hayas observado lo que decís haber observado o algo más raro. </div>\n",
    "$\\hspace{1cm}$\n",
    "<div style=\"text-align: justify\">\n",
    "La buena noticia, es que te damos a vos la oportunidad de elegir la máxima significancia de nuestro test. Es decir, queremos que nos indiques el máximo (o mínimo) valor de $\\alpha$ antes de que debamos aceptar la hipótesis de que inventaste tus datos.</div>"
   ]
  },
  {
   "cell_type": "markdown",
   "metadata": {},
   "source": [
    "En primer lugar, voy a calcular el natural correspondiente a la patente AD592MF, es decir, el n."
   ]
  },
  {
   "cell_type": "code",
   "execution_count": 108,
   "metadata": {},
   "outputs": [
    {
     "data": {
      "text/plain": [
       "2428510"
      ]
     },
     "execution_count": 108,
     "metadata": {},
     "output_type": "execute_result"
    }
   ],
   "source": [
    "n=patente_a_natural(\"AD592MF\")\n",
    "n"
   ]
  },
  {
   "cell_type": "markdown",
   "metadata": {},
   "source": [
    "Recuerdo el valor de $m^*$, es decir, el natural asociado a la patente más nueva que observé."
   ]
  },
  {
   "cell_type": "code",
   "execution_count": 109,
   "metadata": {},
   "outputs": [
    {
     "data": {
      "text/plain": [
       "2412985"
      ]
     },
     "execution_count": 109,
     "metadata": {},
     "output_type": "execute_result"
    }
   ],
   "source": [
    "m=max(mediciones)\n",
    "m"
   ]
  },
  {
   "cell_type": "markdown",
   "metadata": {},
   "source": [
    "<div style=\"text-align: justify\">\n",
    "El test propuesto tiene como estadístico a m, es decir, el natural correspondiente a la patente más nueva observada (el máximo de los naturales asociados a mis patentes). La hipótesis nula es $H_0$: no invente los datos. La distribución de m cuando $H_0$ es cierta está dada por: </div>\n",
    "$\\hspace{1cm}$\n",
    "$$P(m \\mid k,n)=\\frac{\\binom{m-1}{k-1}}{\\binom{n}{k}}$$\n",
    "$\\hspace{1cm}$\n",
    "<div style=\"text-align: justify\"> donde k es el número de patentes observadas, n es el número de autos con patentes nuevas en circulación y, por lo tanto, $k \\leq m\\leq n$. En este caso pide tomar n=2428510 (el natural correspondiente a la patente AD592MF). Además, k=251 es el número de patentes que tome. </div>\n",
    "$\\hspace{1cm}$\n",
    "<div style=\"text-align: justify\"> Lo que pide el enunciado es dar la máxima significancia del test antes de rechazar $H_0$. Esto por definición es el p-valor, como se explicó anteriormente en el Ejercicio **3**. Dicho esto, ahora lo que voy a calcular es el p-valor para el estadístico medido $m^*=2412985$, es decir, la probabilidad de medir el m que medi o uno peor cuando $H_0$ es cierta. Para eso, nececito la distribución de m cuando $H_0$ es cierta. Ésta la conozco y es la $P(m \\mid k,n)$. Además, hay que pensar qué es medir ¨algo peor¨ en este caso. En particular, el peor m medido lo hubiese obtenido si observaba las primeras k=251 patentes, es decir, si observaba las patentes asociadas a los naturales 1 hasta k=251. En otras palabras, el peor de los casos es medir $m^*=251$. Esto se ve explícitamente del hecho de que $m \\geq k=251$, Dicho esto, el p-valor en este caso se calcula como:</div>\n",
    "$\\hspace{1cm}$\n",
    "$$p-valor=P(251\\leq m \\leq m^*=  2412985 \\mid k= 251,n=2428510)=\\sum _{m=k=251}^{m=m^*= 2412985 }P(m \\mid k=251,n=2428510)=\\sum _{m=k=251}^{m=m^*= 2412985 }\\frac{\\binom{m-1}{251-1}}{\\binom{2428510}{251}}$$ "
   ]
  },
  {
   "cell_type": "code",
   "execution_count": 110,
   "metadata": {},
   "outputs": [],
   "source": [
    "def p(m,k,n):\n",
    "    coc=[]\n",
    "    for i in range(1,k):\n",
    "        coc.append((m-i)/(n-i))\n",
    "    coc=np.array(coc)\n",
    "    return (np.prod(coc)*k)/n"
   ]
  },
  {
   "cell_type": "markdown",
   "metadata": {},
   "source": [
    "Ahora, calculo el p-valor para mi $m^*=2412985$ medido. \n",
    "\n",
    "En vez de calcular el p-valor como $p-valor=P(251\\leq m \\leq m^*=  2412985 \\mid k= 251,n=2428510)$, lo voy a calcular como $p-valor=1-P(1\\leq m \\leq k-1=250 \\mid k= 251,n=2428510)-P(m^*-1=  2412984\\leq m \\leq  n=2428510 \\mid k= 251,n=2428510)$, ya que el costo computacional para calcularlo de esta forma es mucho menor. "
   ]
  },
  {
   "cell_type": "code",
   "execution_count": 111,
   "metadata": {},
   "outputs": [],
   "source": [
    "#m=max(mediciones)\n",
    "ms1=np.arange(1,251,1) #va de 1 a 250\n",
    "ms2=np.arange(m-1,2428510+1,1) # va de m-1 a 2428510\n",
    "ps=[]\n",
    "for i in ms1:\n",
    "    ps.append(p(i,251,2428510))\n",
    "for i in ms2:\n",
    "    ps.append(p(i,251,2428510))"
   ]
  },
  {
   "cell_type": "code",
   "execution_count": 112,
   "metadata": {},
   "outputs": [
    {
     "data": {
      "text/plain": [
       "0.1998802028051625"
      ]
     },
     "execution_count": 112,
     "metadata": {},
     "output_type": "execute_result"
    }
   ],
   "source": [
    "p_valor=1-sum(ps)\n",
    "p_valor"
   ]
  },
  {
   "cell_type": "markdown",
   "metadata": {},
   "source": [
    "El p-valor para mi $m^*=2412985$ medido es p-valor=0.1998802028051625 $\\sim$ 0.2. Esta es la máxima significancia del test antes de rechazar $H_0$, es decir, antes de aceptar la hipótesis de que invente los datos. En conclusión con cualquier $\\alpha<0.2$ se acepta $H_0$, es decir, se acepta la hipótesis de que no invente los datos.\n",
    "\n"
   ]
  },
  {
   "cell_type": "markdown",
   "metadata": {},
   "source": [
    "<div style=\"text-align: justify\"> El n=2428510 era el natural correspondiente a la patente AD592MF, la cual era la patente más nueva vista en $Locos$ $por$ $patentes$ hasta el día del parcial. \n",
    "Pero, en rigor, yo tomé mis datos el 23/3/19, y para ese día la patente más nueva vista en $Locos$ $por$ $patentes$ era AD597ET. Teniendo esto en cuenta, voy a realizar exactamente el mismo procedimiento para calcular el p-valor con mi $m^*$ pero tomando como n= 2431696, natural correspondiente a la patente AD597ET. </div>"
   ]
  },
  {
   "cell_type": "code",
   "execution_count": 113,
   "metadata": {},
   "outputs": [
    {
     "data": {
      "text/plain": [
       "2431696"
      ]
     },
     "execution_count": 113,
     "metadata": {},
     "output_type": "execute_result"
    }
   ],
   "source": [
    "n_2=patente_a_natural(\"AD597ET\")\n",
    "n_2"
   ]
  },
  {
   "cell_type": "code",
   "execution_count": 114,
   "metadata": {},
   "outputs": [],
   "source": [
    "#m=max(mediciones)\n",
    "ms1=np.arange(1,251,1) #va de 1 a 250\n",
    "ms2=np.arange(m-1,2431696+1,1) # va de m-1 a 2431696\n",
    "ps_2=[]\n",
    "for i in ms1:\n",
    "    ps_2.append(p(i,251,2431696))\n",
    "for i in ms2:\n",
    "    ps_2.append(p(i,251,2431696))"
   ]
  },
  {
   "cell_type": "code",
   "execution_count": 115,
   "metadata": {},
   "outputs": [
    {
     "data": {
      "text/plain": [
       "0.14382917135987117"
      ]
     },
     "execution_count": 115,
     "metadata": {},
     "output_type": "execute_result"
    }
   ],
   "source": [
    "p_valor=1-sum(ps_2)\n",
    "p_valor"
   ]
  },
  {
   "cell_type": "markdown",
   "metadata": {},
   "source": [
    "Tomando a n=2431695 (AD597ET), el p-valor para mi $m^*=2412985$ es p-valor=0.14384401895956034$ \\sim 0.14$.  Esta es la máxima significancia del test con n=2431695, antes de rechazar $H_0$, es decir, antes de aceptar la hipótesis de que invente los datos. Esta es menor que si tomaba n=2428510 (AD592MF). Esto se puede ver que tiene que ser así de la fórmula para calcular el p-valor:\n",
    "\n",
    "$$\\begin{split}\n",
    "p-valor & = P(251\\leq m \\leq m^*=  2412985 \\mid k=251,n) \\\\\n",
    " & = \\sum _{m=k=251}^{m=m^*= 2412985 }P(m \\mid k=251,n) \\\\\n",
    "  & = \\sum _{m=k=251}^{m=m^*= 2412985 }\\frac{251(m-1)(m-2)....(m-(251-1))}{n(n-1)....(n-(251-1))}\n",
    "\\end{split}$$\n",
    "\n",
    "\n",
    "\n"
   ]
  },
  {
   "cell_type": "markdown",
   "metadata": {},
   "source": [
    "La sumatoria para calcular el p-valor va desde m=k=251 hasta m=$m^*$=2412985 para los dos n que tomo. Sin embargo, se puede ver de la fórmula que para un n más grande , cada uno de los términos de la sumatoria es más chico. Por lo que tiene sentido que con un n más grande y a igual $m^*$ y k, obtenga un p-valor menor."
   ]
  }
 ],
 "metadata": {
  "kernelspec": {
   "display_name": "Python 3",
   "language": "python",
   "name": "python3"
  },
  "language_info": {
   "codemirror_mode": {
    "name": "ipython",
    "version": 3
   },
   "file_extension": ".py",
   "mimetype": "text/x-python",
   "name": "python",
   "nbconvert_exporter": "python",
   "pygments_lexer": "ipython3",
   "version": "3.6.5"
  }
 },
 "nbformat": 4,
 "nbformat_minor": 2
}
